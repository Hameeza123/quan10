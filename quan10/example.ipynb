{
 "cells": [
  {
   "cell_type": "code",
   "execution_count": 83,
   "id": "a63d2828-52d7-4952-9601-1b0d366de1be",
   "metadata": {},
   "outputs": [],
   "source": [
    "import sys\n",
    "for k in ['ham_basic', 'Sequencer', 'sequencer']:\n",
    "    if k in sys.modules: del sys.modules[k]\n",
    "import pandas as pd\n",
    "import numpy as np\n",
    "import time\n",
    "\n",
    "from ham_basic import program\n",
    "program.initialize(B=200, R=0.5, delta=1)\n",
    "program.read_data(pd.read_csv('close.csv'))"
   ]
  },
  {
   "cell_type": "code",
   "execution_count": 84,
   "id": "8cd25617-29f6-4148-a72b-3f748a593007",
   "metadata": {},
   "outputs": [
    {
     "name": "stdout",
     "output_type": "stream",
     "text": [
      "time for operation 8.33855414390564\n",
      "\n",
      "   Normal return from subroutine COBYLA\n",
      "\n",
      "   NFVALS =  882   F = 1.264874E+00    MAXCV = 0.000000E+00\n",
      "   X = 3.141624E+00   1.643563E+00   2.551577E+00   4.638094E+00   8.291251E-01\n",
      "       4.762942E+00  -4.780869E-05   2.686025E+00   6.039109E+00   4.474271E+00\n",
      "       2.421187E+00   3.333632E+00   7.197747E-05   1.534196E+00   4.113811E+00\n",
      "       3.778891E+00   2.405109E+00   2.853533E+00   6.283264E+00   3.201320E+00\n",
      "       9.956646E-01   2.840287E+00   7.349069E+00   3.506215E+00\n"
     ]
    }
   ],
   "source": [
    "from sequencer import Sequencer\n",
    "from scipy.optimize import minimize\n",
    "\n",
    "seq = Sequencer()\n",
    "seq.set_program(program)\n",
    "seq.set_backend('statevector')\n",
    "seq.set_ansatz('qiskit-EfficientSU2')\n",
    "\n",
    "x0 = 2 * np.pi * np.random.random(program.size*8)\n",
    "start_time = time.time()\n",
    "cobyla = minimize(seq.cost_func, x0, method='COBYLA', options={'disp': True}) #'maxiter':400\n",
    "end_time = time.time()\n",
    "\n",
    "print(\"time for operation\", end_time-start_time)\n",
    "opt_params = cobyla.x\n",
    "opt_energy = cobyla.fun"
   ]
  },
  {
   "cell_type": "code",
   "execution_count": 85,
   "id": "37f59947-72aa-4d02-bd67-9c7e826b1060",
   "metadata": {},
   "outputs": [
    {
     "name": "stdout",
     "output_type": "stream",
     "text": [
      "optimal vector: [0. 0. 0. 1.]\n",
      "money invested: 181.27999877929688\n"
     ]
    }
   ],
   "source": [
    "ans_r = seq.ansatz_eval(opt_params)\n",
    "program.interpret_qiskit_result(ans_r)"
   ]
  }
 ],
 "metadata": {
  "kernelspec": {
   "display_name": "Python 3 (ipykernel)",
   "language": "python",
   "name": "python3"
  },
  "language_info": {
   "codemirror_mode": {
    "name": "ipython",
    "version": 3
   },
   "file_extension": ".py",
   "mimetype": "text/x-python",
   "name": "python",
   "nbconvert_exporter": "python",
   "pygments_lexer": "ipython3",
   "version": "3.10.12"
  }
 },
 "nbformat": 4,
 "nbformat_minor": 5
}
