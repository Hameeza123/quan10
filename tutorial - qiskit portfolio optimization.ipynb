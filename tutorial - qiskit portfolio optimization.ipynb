{
 "cells": [
  {
   "cell_type": "code",
   "execution_count": 3,
   "id": "13c6d9b5-2263-4053-8747-89cacec0af16",
   "metadata": {},
   "outputs": [],
   "source": [
    "from qiskit.circuit.library import TwoLocal\n",
    "from qiskit.result import QuasiDistribution\n",
    "from qiskit_aer.primitives import Sampler\n",
    "from qiskit_algorithms import NumPyMinimumEigensolver, QAOA, SamplingVQE\n",
    "from qiskit_algorithms.optimizers import COBYLA\n",
    "from qiskit_finance.applications.optimization import PortfolioOptimization\n",
    "from qiskit_finance.data_providers import RandomDataProvider\n",
    "from qiskit_optimization.algorithms import MinimumEigenOptimizer\n",
    "import numpy as np\n",
    "import matplotlib.pyplot as plt\n",
    "import datetime"
   ]
  },
  {
   "cell_type": "markdown",
   "id": "7e7e5b50-b077-4cde-a78b-875b1f294b25",
   "metadata": {},
   "source": [
    "### create test stocks, calculate their statistics"
   ]
  },
  {
   "cell_type": "code",
   "execution_count": 4,
   "id": "0aa79868-a8f5-4523-bce0-690fca3cd51d",
   "metadata": {},
   "outputs": [],
   "source": [
    "# set number of assets (= number of qubits)\n",
    "num_assets = 4\n",
    "seed = 123\n",
    "\n",
    "# Generate expected return and covariance matrix from (random) time-series\n",
    "stocks = [(\"TICKER%s\" % i) for i in range(num_assets)]\n",
    "data = RandomDataProvider(\n",
    "    tickers=stocks,\n",
    "    start=datetime.datetime(2016, 1, 1),\n",
    "    end=datetime.datetime(2016, 1, 30),\n",
    "    seed=seed,\n",
    ")\n",
    "data.run()\n",
    "mu = data.get_period_return_mean_vector()\n",
    "sigma = data.get_period_return_covariance_matrix()"
   ]
  },
  {
   "cell_type": "code",
   "execution_count": 5,
   "id": "d35a9271-ae72-4b5d-8ae8-3db531b0abce",
   "metadata": {},
   "outputs": [
    {
     "data": {
      "image/png": "[encoded data removed]",
      "text/plain": [
       "<Figure size 640x480 with 1 Axes>"
      ]
     },
     "metadata": {},
     "output_type": "display_data"
    }
   ],
   "source": [
    "# plot sigma\n",
    "plt.imshow(sigma, interpolation=\"nearest\")\n",
    "plt.show()"
   ]
  },
  {
   "cell_type": "markdown",
   "id": "c1dee31a-024c-4ad5-84d6-1ae4a0fa0ca8",
   "metadata": {},
   "source": [
    "### formulate Portfolio Optimization (PO) problem"
   ]
  },
  {
   "cell_type": "code",
   "execution_count": 6,
   "id": "5a976a8d-39f9-4f33-a148-d65f2d751ddd",
   "metadata": {},
   "outputs": [],
   "source": [
    "q = 0.5  # set risk factor\n",
    "budget = num_assets // 2  # set budget\n",
    "penalty = num_assets  # set parameter to scale the budget penalty term\n",
    "\n",
    "portfolio = PortfolioOptimization(\n",
    "    expected_returns=mu, covariances=sigma, risk_factor=q, budget=budget\n",
    ")\n",
    "qp = portfolio.to_quadratic_program()"
   ]
  },
  {
   "cell_type": "markdown",
   "id": "4f6b0858-6080-4ba8-9c1b-45182b6717a5",
   "metadata": {},
   "source": [
    "### helper function for pretty output"
   ]
  },
  {
   "cell_type": "code",
   "execution_count": 7,
   "id": "0e1e755a-2508-478f-b7e3-ed39b5aaf179",
   "metadata": {},
   "outputs": [],
   "source": [
    "def print_result(result):\n",
    "    selection = result.x\n",
    "    value = result.fval\n",
    "    print(\"Optimal: selection {}, value {:.4f}\".format(selection, value))\n",
    "\n",
    "    eigenstate = result.min_eigen_solver_result.eigenstate\n",
    "    probabilities = (\n",
    "        eigenstate.binary_probabilities()\n",
    "        if isinstance(eigenstate, QuasiDistribution)\n",
    "        else {k: np.abs(v) ** 2 for k, v in eigenstate.to_dict().items()}\n",
    "    )\n",
    "    print(\"\\n----------------- Full result ---------------------\")\n",
    "    print(\"selection\\tvalue\\t\\tprobability\")\n",
    "    print(\"---------------------------------------------------\")\n",
    "    probabilities = sorted(probabilities.items(), key=lambda x: x[1], reverse=True)\n",
    "\n",
    "    for k, v in probabilities:\n",
    "        x = np.array([int(i) for i in list(reversed(k))])\n",
    "        value = portfolio.to_quadratic_program().objective.evaluate(x)\n",
    "        print(\"%10s\\t%.4f\\t\\t%.4f\" % (x, value, v))"
   ]
  },
  {
   "cell_type": "markdown",
   "id": "87f0bb6d-676c-420b-a02e-51e6aa76d14f",
   "metadata": {},
   "source": [
    "## Classical solution with NumPyMinimumEigensolver"
   ]
  },
  {
   "cell_type": "code",
   "execution_count": 8,
   "id": "e4d9ee36-aac5-4592-9864-44024125031a",
   "metadata": {},
   "outputs": [
    {
     "name": "stdout",
     "output_type": "stream",
     "text": [
      "Optimal: selection [1. 0. 0. 1.], value -0.0149\n",
      "\n",
      "----------------- Full result ---------------------\n",
      "selection\tvalue\t\tprobability\n",
      "---------------------------------------------------\n",
      " [1 0 0 1]\t-0.0149\t\t1.0000\n"
     ]
    }
   ],
   "source": [
    "exact_mes = NumPyMinimumEigensolver()\n",
    "exact_eigensolver = MinimumEigenOptimizer(exact_mes)\n",
    "\n",
    "result = exact_eigensolver.solve(qp)\n",
    "\n",
    "print_result(result)"
   ]
  },
  {
   "cell_type": "markdown",
   "id": "3f07315d-e4f4-4971-afd7-eaf51df74028",
   "metadata": {},
   "source": [
    "## Quantum solution with SamplingVQE"
   ]
  },
  {
   "cell_type": "code",
   "execution_count": 9,
   "id": "fa1b969e-5afb-4a6f-bc18-78863d1e33f9",
   "metadata": {},
   "outputs": [
    {
     "name": "stdout",
     "output_type": "stream",
     "text": [
      "Optimal: selection [1. 0. 0. 1.], value -0.0149\n",
      "\n",
      "----------------- Full result ---------------------\n",
      "selection\tvalue\t\tprobability\n",
      "---------------------------------------------------\n",
      " [1 0 0 1]\t-0.0149\t\t0.9053\n",
      " [1 0 1 0]\t-0.0140\t\t0.0215\n",
      " [1 0 1 1]\t-0.0150\t\t0.0195\n",
      " [1 1 0 0]\t-0.0130\t\t0.0146\n",
      " [0 0 1 1]\t-0.0010\t\t0.0098\n",
      " [1 1 0 1]\t-0.0139\t\t0.0068\n",
      " [0 1 1 1]\t-0.0000\t\t0.0068\n",
      " [0 0 0 1]\t-0.0008\t\t0.0039\n",
      " [1 0 0 0]\t-0.0140\t\t0.0039\n",
      " [0 1 0 1]\t0.0002\t\t0.0029\n",
      " [0 1 1 0]\t0.0008\t\t0.0020\n",
      " [0 0 0 0]\t0.0000\t\t0.0010\n",
      " [0 0 1 0]\t-0.0001\t\t0.0010\n",
      " [0 1 0 0]\t0.0009\t\t0.0010\n"
     ]
    }
   ],
   "source": [
    "from qiskit_algorithms.utils import algorithm_globals\n",
    "\n",
    "algorithm_globals.random_seed = 1234\n",
    "\n",
    "cobyla = COBYLA()\n",
    "cobyla.set_options(maxiter=500)\n",
    "ry = TwoLocal(num_assets, \"ry\", \"cz\", reps=3, entanglement=\"full\")\n",
    "svqe_mes = SamplingVQE(sampler=Sampler(), ansatz=ry, optimizer=cobyla)\n",
    "svqe = MinimumEigenOptimizer(svqe_mes)\n",
    "result = svqe.solve(qp)\n",
    "\n",
    "print_result(result)"
   ]
  },
  {
   "cell_type": "markdown",
   "id": "fe237052-0baa-425a-8c4a-2006db85c0f6",
   "metadata": {},
   "source": [
    "## Quantum solution with QAOA"
   ]
  },
  {
   "cell_type": "code",
   "execution_count": 10,
   "id": "cd15e7b6-20f7-4a44-a9cc-ab6589b4fce2",
   "metadata": {},
   "outputs": [
    {
     "name": "stdout",
     "output_type": "stream",
     "text": [
      "Optimal: selection [1. 0. 0. 1.], value -0.0149\n",
      "\n",
      "----------------- Full result ---------------------\n",
      "selection\tvalue\t\tprobability\n",
      "---------------------------------------------------\n",
      " [1 0 0 1]\t-0.0149\t\t0.1787\n",
      " [1 0 1 0]\t-0.0140\t\t0.1748\n",
      " [1 1 0 0]\t-0.0130\t\t0.1748\n",
      " [0 1 0 1]\t0.0002\t\t0.1738\n",
      " [0 0 1 1]\t-0.0010\t\t0.1523\n",
      " [0 1 1 0]\t0.0008\t\t0.1445\n",
      " [0 1 1 1]\t-0.0000\t\t0.0010\n"
     ]
    }
   ],
   "source": [
    "algorithm_globals.random_seed = 1234\n",
    "\n",
    "cobyla = COBYLA()\n",
    "cobyla.set_options(maxiter=250)\n",
    "qaoa_mes = QAOA(sampler=Sampler(), optimizer=cobyla, reps=3)\n",
    "qaoa = MinimumEigenOptimizer(qaoa_mes)\n",
    "result = qaoa.solve(qp)\n",
    "\n",
    "print_result(result)"
   ]
  }
 ],
 "metadata": {
  "kernelspec": {
   "display_name": "Python 3 (ipykernel)",
   "language": "python",
   "name": "python3"
  },
  "language_info": {
   "codemirror_mode": {
    "name": "ipython",
    "version": 3
   },
   "file_extension": ".py",
   "mimetype": "text/x-python",
   "name": "python",
   "nbconvert_exporter": "python",
   "pygments_lexer": "ipython3",
   "version": "3.10.12"
  }
 },
 "nbformat": 4,
 "nbformat_minor": 5
}
