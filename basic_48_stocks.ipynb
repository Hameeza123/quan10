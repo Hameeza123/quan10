{
 "cells": [
  {
   "cell_type": "markdown",
   "id": "5973606e-a336-4c3f-b68a-9c7937cb31c8",
   "metadata": {},
   "source": [
    "Sources:\n",
    "- https://onlinelibrary.wiley.com/doi/book/10.1002/9781118106907 (HG106 .A44)\n",
    "- https://web.p.ebscohost.com/ehost/detail/detail?vid=0&sid=4e5f9e98-927b-488b-b494-01b7f1def4e6%40redis&bdata=JkF1dGhUeXBlPWlwJnNpdGU9ZWhvc3QtbGl2ZSZzY29wZT1zaXRl#AN=52240&db=nlebk\n",
    "  (HG4925.5 .G74)"
   ]
  },
  {
   "cell_type": "code",
   "execution_count": 84,
   "id": "538930a0-c87f-4bde-8769-5d92ad45a8ac",
   "metadata": {},
   "outputs": [
    {
     "name": "stdout",
     "output_type": "stream",
     "text": [
      "/opt/anaconda3/lib/python3.12/site-packages/pypfopt/__init__.py\n"
     ]
    }
   ],
   "source": [
    "import pypfopt\n",
    "print(pypfopt.__file__)"
   ]
  },
  {
   "cell_type": "code",
   "execution_count": 7,
   "id": "5bc80ab1-11ab-473f-820a-14730639235b",
   "metadata": {},
   "outputs": [],
   "source": [
    "import numpy as np\n",
    "import matplotlib.pyplot as plt\n",
    "import datetime\n",
    "import pandas as pd\n",
    "import random\n",
    "import matplotlib.pyplot as plt\n",
    "import pypfopt\n",
    "from pypfopt import CLA, plotting, expected_returns, risk_models\n",
    "\n",
    "import yfinance as yf\n",
    "from requests import Session\n",
    "from requests_cache import CacheMixin, SQLiteCache\n",
    "from requests_ratelimiter import LimiterMixin, MemoryQueueBucket\n",
    "from pyrate_limiter import Duration, RequestRate, Limiter\n",
    "class CachedLimiterSession(CacheMixin, LimiterMixin, Session):\n",
    "    pass\n",
    "\n",
    "session = CachedLimiterSession(\n",
    "    limiter=Limiter(RequestRate(2, Duration.SECOND*1)),  # max 2 requests per 1 second\n",
    "    bucket_class=MemoryQueueBucket,\n",
    "    backend=SQLiteCache(\"yfinance.cache\"),\n",
    ")\n",
    "# session.headers['User-agent'] = 'my-program/1.0'"
   ]
  },
  {
   "cell_type": "markdown",
   "id": "8efa124e-ad0a-453a-97e4-4e3ba237b216",
   "metadata": {},
   "source": [
    "Note: we can do daily returns, monthly returns, annual returns, etc., for different periods.\n",
    "Also, the below code uses closing prices, which is somewhat arbitrary."
   ]
  },
  {
   "cell_type": "code",
   "execution_count": 10,
   "id": "64b9e2c4-1e8f-46f3-b064-e56d3fee9c52",
   "metadata": {},
   "outputs": [],
   "source": [
    "# stocks interested in\n",
    "# tickers = [\"MSFT\", \"APPL\", \"GOOGL\"]\n",
    "tickers = [\n",
    "    \"AAPL\",  # Apple Inc.\n",
    "    \"MSFT\",  # Microsoft Corporation\n",
    "    \"GOOGL\", # Alphabet Inc.\n",
    "    \"AMZN\",  # Amazon.com, Inc.\n",
    "    \"TSLA\",  # Tesla, Inc.\n",
    "    \"META\",  # Meta Platforms, Inc.\n",
    "    \"NFLX\",  # Netflix, Inc.\n",
    "    \"NVDA\",  # NVIDIA Corporation\n",
    "    \"JPM\",   # JPMorgan Chase & Co.\n",
    "    \"BAC\",   # Bank of America Corporation\n",
    "    \"WMT\",   # Walmart Inc.\n",
    "    \"PG\",    # Procter & Gamble Co.\n",
    "    \"V\",     # Visa Inc.\n",
    "    \"MA\",    # Mastercard Inc.\n",
    "    \"DIS\",   # The Walt Disney Company\n",
    "    \"PEP\",   # PepsiCo, Inc.\n",
    "    \"KO\",    # The Coca-Cola Company\n",
    "    \"UNH\",   # UnitedHealth Group Inc.\n",
    "    \"PFE\",   # Pfizer Inc.\n",
    "    \"MRK\",   # Merck & Co., Inc.\n",
    "    \"T\",     # AT&T Inc.\n",
    "    \"VZ\",    # Verizon Communications Inc.\n",
    "    \"CSCO\",  # Cisco Systems, Inc.\n",
    "    \"INTC\",  # Intel Corporation\n",
    "    \"ORCL\",  # Oracle Corporation\n",
    "    \"ADBE\",  # Adobe Inc.\n",
    "    \"CRM\",   # Salesforce, Inc.\n",
    "    \"BABA\",  # Alibaba Group Holding Limited\n",
    "    \"XOM\",   # Exxon Mobil Corporation\n",
    "    \"CVX\",   # Chevron Corporation\n",
    "    \"GS\",    # Goldman Sachs Group, Inc.\n",
    "    \"SPY\",   # SPDR S&P 500 ETF Trust\n",
    "    \"QQQ\",   # Invesco QQQ Trust (Nasdaq-100 ETF)\n",
    "    \"IWM\",   # iShares Russell 2000 ETF\n",
    "    \"DIA\",   # SPDR Dow Jones Industrial Average ETF Trust\n",
    "    \"TLT\",   # iShares 20+ Year Treasury Bond ETF\n",
    "    \"GLD\",   # SPDR Gold Trust (Gold ETF)\n",
    "    \"SLV\",   # iShares Silver Trust (Silver ETF)\n",
    "    \"XLF\",   # Financial Select Sector SPDR ETF\n",
    "    \"XLK\",   # Technology Select Sector SPDR ETF\n",
    "    \"XLE\",   # Energy Select Sector SPDR ETF\n",
    "    \"XLV\",   # Health Care Select Sector SPDR ETF\n",
    "    \"ARKK\",  # ARK Innovation ETF\n",
    "    \"GDX\",   # VanEck Vectors Gold Miners ETF\n",
    "    \"BA\",    # Boeing Co.\n",
    "    \"NKE\",   # Nike Inc.\n",
    "    \"MCD\",   # McDonald's Corporation\n",
    "    \"SBUX\"   # Starbucks Corporation\n",
    "]\n"
   ]
  },
  {
   "cell_type": "code",
   "execution_count": 12,
   "id": "c1c8d046-ea93-484a-a523-0b3c83d43302",
   "metadata": {},
   "outputs": [],
   "source": [
    "# tickers = ['intc', 'gme', 'cost', 'vst'] # -> for sample\n",
    "\n",
    "\n",
    "start_date = '2024-06-01' # inclusive\n",
    "end_date = '2024-09-20' # exclusive\n",
    "\n",
    "# set number of assets (= number of qubits)\n",
    "num_assets = len(tickers)\n",
    "\n",
    "close_df = pd.DataFrame()\n",
    "open_df = pd.DataFrame()\n",
    "high_df = pd.DataFrame()\n",
    "low_df = pd.DataFrame()\n",
    "volume_df = pd.DataFrame()\n",
    "\n",
    "# for i, ticker in enumerate(tickers):\n",
    "#     yf_ticker = yf.Ticker(ticker, session=session)\n",
    "#     close_df[ticker] = yf_ticker.history(start=start_date, end=end_date)[\"Close\"]"
   ]
  },
  {
   "cell_type": "code",
   "execution_count": 14,
   "id": "39ae06cd-7f92-4226-ba19-4ac46690a3b6",
   "metadata": {},
   "outputs": [
    {
     "data": {
      "text/plain": [
       "(array([ 2.36097630e-03,  8.90120666e-04, -7.13834626e-04,  1.03761107e-03,\n",
       "         5.10702460e-03,  2.35273396e-03,  1.51123589e-03,  1.12512942e-03,\n",
       "         7.43116877e-04,  6.01417799e-04,  2.38113397e-03,  6.91194443e-04,\n",
       "         8.06396588e-04,  1.50592364e-03, -1.11782869e-03,  5.18564963e-04,\n",
       "         1.76736725e-03,  2.19884725e-03,  4.32088883e-04, -9.05357516e-04,\n",
       "         2.56194845e-03,  1.24267187e-03,  1.51278931e-03, -3.67747194e-03,\n",
       "         4.88478124e-03,  2.70832720e-03,  1.74995497e-03,  2.15036379e-03,\n",
       "         3.69636780e-04, -8.70798357e-04,  1.58531854e-03,  1.13498070e-03,\n",
       "         9.79466483e-04,  1.35061927e-03,  1.23794457e-03,  1.24441372e-03,\n",
       "         1.33491644e-03,  3.20385607e-04,  1.41508158e-03,  9.85067433e-04,\n",
       "        -9.61147239e-05,  1.07207249e-03,  1.56418370e-03,  1.70046133e-03,\n",
       "        -2.12203507e-03, -1.55615433e-03,  1.79526166e-03,  2.80740381e-03]),\n",
       " array([[2.88140454e-04, 1.16583967e-04, 1.37980196e-04, ...,\n",
       "         1.08509792e-04, 3.34570744e-06, 1.06002063e-04],\n",
       "        [1.16583967e-04, 1.57229519e-04, 1.49260035e-04, ...,\n",
       "         1.00613152e-04, 1.11859241e-05, 9.11093021e-05],\n",
       "        [1.37980196e-04, 1.49260035e-04, 2.61342386e-04, ...,\n",
       "         1.26384542e-04, 3.85230773e-05, 8.14297273e-05],\n",
       "        ...,\n",
       "        [1.08509792e-04, 1.00613152e-04, 1.26384542e-04, ...,\n",
       "         7.83626041e-04, 1.16839296e-04, 3.32864866e-04],\n",
       "        [3.34570744e-06, 1.11859241e-05, 3.85230773e-05, ...,\n",
       "         1.16839296e-04, 1.46155242e-04, 4.51448543e-05],\n",
       "        [1.06002063e-04, 9.11093021e-05, 8.14297273e-05, ...,\n",
       "         3.32864866e-04, 4.51448543e-05, 1.14877968e-03]]),\n",
       " array([[1.        , 0.54773396, 0.50281672, ..., 0.22835598, 0.01630342,\n",
       "         0.1842442 ],\n",
       "        [0.54773396, 1.        , 0.73632843, ..., 0.28663768, 0.07379002,\n",
       "         0.21437656],\n",
       "        [0.50281672, 0.73632843, 1.        , ..., 0.27927663, 0.19711009,\n",
       "         0.14861399],\n",
       "        ...,\n",
       "        [0.22835598, 0.28663768, 0.27927663, ..., 1.        , 0.34524492,\n",
       "         0.35082873],\n",
       "        [0.01630342, 0.07379002, 0.19711009, ..., 0.34524492, 1.        ,\n",
       "         0.1101749 ],\n",
       "        [0.1842442 , 0.21437656, 0.14861399, ..., 0.35082873, 0.1101749 ,\n",
       "         1.        ]]))"
      ]
     },
     "execution_count": 14,
     "metadata": {},
     "output_type": "execute_result"
    }
   ],
   "source": [
    "for stock in tickers:\n",
    "    yf_ticker = yf.Ticker(stock)\n",
    "    # Fetch all OHLC data in one call\n",
    "    hist = yf_ticker.history(start=start_date, end=end_date)\n",
    "    \n",
    "    # Store the relevant OHLC data in respective DataFrames\n",
    "    close_df[stock] = hist[\"Close\"]\n",
    "    open_df[stock] = hist[\"Open\"]\n",
    "    high_df[stock] = hist[\"High\"]\n",
    "    low_df[stock] = hist[\"Low\"]\n",
    "    volume_df[stock] = hist[\"Volume\"]\n",
    "\n",
    "returns_df = close_df.pct_change().dropna()\n",
    "\n",
    "# expected return for each asset\n",
    "expected_returns_ = np.array(returns_df.mean())\n",
    "\n",
    "# sample variance\n",
    "variances = np.array(returns_df.cov())\n",
    "\n",
    "# sample correlation\n",
    "correlations = np.array(returns_df.corr())\n",
    "\n",
    "expected_returns_, variances, correlations"
   ]
  },
  {
   "cell_type": "code",
   "execution_count": 15,
   "id": "8b32e340-2581-4911-9bd6-4acdd6a92d7d",
   "metadata": {},
   "outputs": [
    {
     "data": {
      "image/png": "[encoded data removed]",
      "text/plain": [
       "<Figure size 640x480 with 1 Axes>"
      ]
     },
     "metadata": {},
     "output_type": "display_data"
    },
    {
     "data": {
      "text/plain": [
       "array([[2.88140454e-04, 1.16583967e-04, 1.37980196e-04, ...,\n",
       "        1.08509792e-04, 3.34570744e-06, 1.06002063e-04],\n",
       "       [1.16583967e-04, 1.57229519e-04, 1.49260035e-04, ...,\n",
       "        1.00613152e-04, 1.11859241e-05, 9.11093021e-05],\n",
       "       [1.37980196e-04, 1.49260035e-04, 2.61342386e-04, ...,\n",
       "        1.26384542e-04, 3.85230773e-05, 8.14297273e-05],\n",
       "       ...,\n",
       "       [1.08509792e-04, 1.00613152e-04, 1.26384542e-04, ...,\n",
       "        7.83626041e-04, 1.16839296e-04, 3.32864866e-04],\n",
       "       [3.34570744e-06, 1.11859241e-05, 3.85230773e-05, ...,\n",
       "        1.16839296e-04, 1.46155242e-04, 4.51448543e-05],\n",
       "       [1.06002063e-04, 9.11093021e-05, 8.14297273e-05, ...,\n",
       "        3.32864866e-04, 4.51448543e-05, 1.14877968e-03]])"
      ]
     },
     "execution_count": 15,
     "metadata": {},
     "output_type": "execute_result"
    }
   ],
   "source": [
    "# for the qiskit VQE demo:\n",
    "mu = expected_returns_\n",
    "sigma = variances\n",
    "\n",
    "# plot sigma\n",
    "plt.imshow(sigma, interpolation=\"nearest\")\n",
    "plt.show()\n",
    "\n",
    "sigma"
   ]
  },
  {
   "cell_type": "markdown",
   "id": "dd937f08-009b-44b8-b189-aad67418480c",
   "metadata": {},
   "source": [
    "Given weights $w_1 + \\dots + w_n = 100 \\%$, where $w_i = \\frac{V_i}{V_p}$ is the $i$th asset's value as a fraction of the the portfolio's value:\n",
    "- the portfolio's expected rate of return is the weighted average $k_p = \\sum^n_{i=1} w_i k_{ei}$\n",
    "- the portfolio's risk is the standard deviation $\\sqrt{\\sum^n_{i=1} \\sum^n_{j=1} w_i w_j \\text{Cov}_{ij}}$. (As you might imagine, the variation can also be a measure of risk.)"
   ]
  },
  {
   "cell_type": "code",
   "execution_count": 17,
   "id": "6211f69b-7423-4ea4-b503-d63bfce98245",
   "metadata": {},
   "outputs": [
    {
     "name": "stdout",
     "output_type": "stream",
     "text": [
      "1.0\n"
     ]
    },
    {
     "data": {
      "text/plain": [
       "0.0009147258861989505"
      ]
     },
     "execution_count": 17,
     "metadata": {},
     "output_type": "execute_result"
    }
   ],
   "source": [
    "random_weights = [random.random() for i in range(num_assets)]\n",
    "# normalize the weights\n",
    "mag = sum(random_weights)\n",
    "random_weights = [random_weights[i]/mag  for i in range (num_assets)]\n",
    "print(sum(random_weights))\n",
    "\n",
    "\n",
    "example_portfolio = [(i, random_weights[i]) for i in range(num_assets)]\n",
    "\n",
    "weights = np.array(example_portfolio)[:,1]\n",
    "example_return = weights.dot(expected_returns_)\n",
    "example_return"
   ]
  },
  {
   "cell_type": "code",
   "execution_count": 18,
   "id": "c1b566b4-ec61-4c06-9223-88d5aee48d2c",
   "metadata": {},
   "outputs": [
    {
     "data": {
      "text/plain": [
       "0.009025780748765573"
      ]
     },
     "execution_count": 18,
     "metadata": {},
     "output_type": "execute_result"
    }
   ],
   "source": [
    "example_risk = (\n",
    "    weights.dot(variances.dot(weights))\n",
    ") ** 0.5\n",
    "example_risk"
   ]
  },
  {
   "cell_type": "code",
   "execution_count": 19,
   "id": "67c99691-2d42-45ce-9f89-c3823c55fae5",
   "metadata": {},
   "outputs": [],
   "source": [
    "# generate an efficient frontier graph using random portfolios\n",
    "\n",
    "num_portfolios = 5000\n",
    "returns = []\n",
    "risks = []\n",
    "weights = []\n",
    "\n",
    "for _ in range(0, num_portfolios):\n",
    "    portfolio_order = np.random.permutation(np.arange(num_assets))\n",
    "    remaining_weight = 1\n",
    "    _weights = np.zeros(num_assets)\n",
    "    for i in portfolio_order[:-1]:\n",
    "        _weight = np.random.random() * remaining_weight\n",
    "        remaining_weight -= _weight\n",
    "        _weights[i] = _weight\n",
    "    _weights[portfolio_order[-1]] = remaining_weight\n",
    "    returns.append(_weights.dot(expected_returns_))\n",
    "    risks.append(_weights.dot(variances.dot(_weights)) ** 0.5)\n",
    "    weights.append(_weights)"
   ]
  },
  {
   "cell_type": "code",
   "execution_count": 20,
   "id": "61e2be99-978c-42ea-9621-32ef7431c8f6",
   "metadata": {},
   "outputs": [
    {
     "data": {
      "image/png": "[encoded data removed]",
      "text/plain": [
       "<Figure size 640x480 with 1 Axes>"
      ]
     },
     "metadata": {},
     "output_type": "display_data"
    }
   ],
   "source": [
    "plt.plot(risks * 100, returns * 100, 'o')\n",
    "plt.xlabel(\"$sigma$ (Risk level in %)\")\n",
    "plt.ylabel(\"$k$ (Return in %)\")\n",
    "plt.show()"
   ]
  },
  {
   "cell_type": "code",
   "execution_count": 29,
   "id": "936e98c9-8c70-4a0f-a631-7acd2e8241f7",
   "metadata": {},
   "outputs": [
    {
     "name": "stdout",
     "output_type": "stream",
     "text": [
      "[2.39445698e-11 1.09816390e-13 2.89521067e-08 1.50590708e-17\n",
      " 6.16098750e-04 1.52354390e-10 7.79597556e-16 8.85096410e-12\n",
      " 6.41486065e-18 8.47052789e-15 1.98095419e-01 2.65840482e-11\n",
      " 2.75729753e-12 5.30228228e-06 5.84745765e-09 4.13843680e-24\n",
      " 3.38252647e-07 3.75056861e-24 9.18447299e-24 2.06580415e-05\n",
      " 4.69272669e-01 4.29688250e-16 3.03144887e-17 2.60816674e-12\n",
      " 1.98804612e-01 5.18960153e-07 2.09266734e-05 9.74134593e-04\n",
      " 5.22978734e-12 5.28712805e-08 5.43449190e-25 2.15304511e-22\n",
      " 4.73660922e-09 5.17225639e-09 2.55275116e-11 5.37884785e-16\n",
      " 2.91970866e-14 1.94024977e-12 5.06832241e-05 1.24900215e-19\n",
      " 1.81894132e-15 1.19123587e-02 9.41538166e-02 1.13994065e-07\n",
      " 1.11544957e-12 2.60722523e-02 6.25211810e-22 1.01505969e-23]\n",
      "Sharpe Ratio: 0.3121477100421844\n"
     ]
    }
   ],
   "source": [
    "max_sharpe = (0,)\n",
    "for i in range(0, len(risks)):\n",
    "    _return, _risk, _weights = returns[i], risks[i], weights[i]\n",
    "    _risk = _risk\n",
    "    _sharpe = _return / _risk\n",
    "    if _sharpe > max_sharpe[0]:\n",
    "        max_sharpe = (_sharpe, _risk, _return, _weights)\n",
    "print(max_sharpe[3])\n",
    "# print(\"Expected return:\", max_sharpe[2])\n",
    "# print(\"Expected annual return:\", (1 + max_sharpe[2]) ** (252) - 1)\n",
    "# print(\"Risk:\", max_sharpe[2])\n",
    "# print(\"Annual volatility:\", (1 + max_sharpe[1]) ** (252) - 1)\n",
    "print(\"Sharpe Ratio:\", max_sharpe[0])"
   ]
  },
  {
   "cell_type": "code",
   "execution_count": 31,
   "id": "9104f46f-108a-4a62-89e8-8642e6964137",
   "metadata": {},
   "outputs": [
    {
     "data": {
      "text/plain": [
       "(AAPL     0.180925\n",
       " MSFT     0.062780\n",
       " GOOGL   -0.061376\n",
       " AMZN     0.064652\n",
       " TSLA     0.383629\n",
       " META     0.173195\n",
       " NFLX     0.111283\n",
       " NVDA     0.025128\n",
       " JPM      0.048688\n",
       " BAC      0.037780\n",
       " WMT      0.189037\n",
       " PG       0.048112\n",
       " V        0.057075\n",
       " MA       0.114060\n",
       " DIS     -0.086493\n",
       " PEP      0.035903\n",
       " KO       0.138660\n",
       " UNH      0.169132\n",
       " PFE      0.026223\n",
       " MRK     -0.075531\n",
       " T        0.203809\n",
       " VZ       0.089778\n",
       " CSCO     0.112126\n",
       " INTC    -0.297653\n",
       " ORCL     0.408980\n",
       " ADBE     0.199125\n",
       " CRM      0.127640\n",
       " BABA     0.160631\n",
       " XOM      0.021703\n",
       " CVX     -0.068889\n",
       " GS       0.113918\n",
       " SPY      0.085301\n",
       " QQQ      0.068409\n",
       " IWM      0.097675\n",
       " DIA      0.094899\n",
       " TLT      0.094244\n",
       " GLD      0.101050\n",
       " SLV      0.007171\n",
       " XLF      0.108528\n",
       " XLK      0.063232\n",
       " XLE     -0.011961\n",
       " XLV      0.081687\n",
       " ARKK     0.103304\n",
       " GDX      0.118558\n",
       " BA      -0.162432\n",
       " NKE     -0.138335\n",
       " MCD      0.137863\n",
       " SBUX     0.187691\n",
       " dtype: float64,\n",
       "            AAPL      MSFT     GOOGL      AMZN      TSLA      META      NFLX  \\\n",
       " AAPL   0.021611  0.008744  0.010349  0.009525  0.023542  0.009513  0.006845   \n",
       " MSFT   0.008744  0.011792  0.011195  0.012469  0.021683  0.012825  0.008690   \n",
       " GOOGL  0.010349  0.011195  0.019601  0.014750  0.026946  0.015650  0.010386   \n",
       " AMZN   0.009525  0.012469  0.014750  0.030263  0.033466  0.016030  0.011085   \n",
       " TSLA   0.023542  0.021683  0.026946  0.033466  0.115677  0.026649  0.019767   \n",
       " META   0.009513  0.012825  0.015650  0.016030  0.026649  0.033554  0.011648   \n",
       " NFLX   0.006845  0.008690  0.010386  0.011085  0.019767  0.011648  0.015672   \n",
       " NVDA   0.019967  0.019969  0.022778  0.026603  0.067817  0.028927  0.025518   \n",
       " JPM    0.001204  0.002031  0.003299  0.006199  0.008750  0.001433  0.004747   \n",
       " BAC    0.002788  0.002864  0.002913  0.007608  0.012070  0.001674  0.003620   \n",
       " WMT    0.000170  0.002761  0.002329  0.006173  0.005185  0.004144  0.001749   \n",
       " PG    -0.002783 -0.000513 -0.001748 -0.002867 -0.003419 -0.000625 -0.000238   \n",
       " V      0.002737  0.003692  0.003550  0.004282  0.011012  0.004271  0.003270   \n",
       " MA     0.002163  0.002939  0.003681  0.004227  0.008565  0.004002  0.004207   \n",
       " DIS    0.000242  0.003665  0.004961  0.007658  0.012702  0.005034  0.003538   \n",
       " PEP   -0.001520 -0.001602 -0.001722 -0.002855 -0.002742 -0.002623 -0.001217   \n",
       " KO    -0.001505 -0.001202 -0.001337 -0.003370 -0.008764 -0.002169 -0.001438   \n",
       " UNH   -0.001576 -0.003275 -0.003446 -0.005468 -0.007105 -0.008093 -0.003683   \n",
       " PFE   -0.001198  0.000813 -0.000596 -0.000410 -0.006098 -0.001906 -0.000814   \n",
       " MRK    0.001005  0.002368  0.003570  0.001982  0.000709  0.002388  0.001046   \n",
       " T     -0.005332 -0.003989 -0.004959 -0.003349 -0.013162 -0.005959 -0.002400   \n",
       " VZ    -0.001418 -0.001125 -0.003079  0.000671 -0.006769 -0.003187 -0.002249   \n",
       " CSCO   0.001865  0.002944  0.004460  0.007869  0.008351  0.000454  0.002860   \n",
       " INTC   0.010804  0.020310  0.024541  0.043473  0.058914  0.021547  0.022845   \n",
       " ORCL   0.008449  0.012343  0.008702  0.012998  0.027100  0.009652  0.006051   \n",
       " ADBE   0.006279  0.006974  0.008063  0.013145  0.016179  0.009693  0.011116   \n",
       " CRM    0.004020  0.006090  0.009458  0.013889  0.017763  0.009783  0.007761   \n",
       " BABA   0.003344  0.003901  0.004667  0.007545  0.023830  0.005669  0.003124   \n",
       " XOM   -0.000278 -0.001884 -0.000002 -0.000529 -0.003934 -0.000845  0.000662   \n",
       " CVX    0.001665  0.000745  0.002813  0.004402  0.005181 -0.001718  0.001666   \n",
       " GS     0.005865  0.004800  0.006480  0.009045  0.014646  0.005735  0.007239   \n",
       " SPY    0.006718  0.006766  0.008007  0.009850  0.019184  0.008920  0.007014   \n",
       " QQQ    0.010569  0.010362  0.012119  0.014736  0.031003  0.014334  0.010841   \n",
       " IWM    0.005806  0.005313  0.007452  0.010170  0.017936  0.004868  0.005553   \n",
       " DIA    0.003338  0.003777  0.004392  0.006219  0.010222  0.003571  0.003823   \n",
       " TLT   -0.000116 -0.000724 -0.000833 -0.004028 -0.000452 -0.000874 -0.000576   \n",
       " GLD    0.002052  0.001987  0.004157  0.003497  0.004473  0.003588  0.003015   \n",
       " SLV    0.005138  0.006947  0.011742  0.011526  0.018892  0.010967  0.008615   \n",
       " XLF    0.002120  0.002896  0.003450  0.005096  0.008866  0.002746  0.003714   \n",
       " XLK    0.013412  0.012860  0.013968  0.017254  0.037666  0.016374  0.013623   \n",
       " XLE    0.001277  0.000741  0.002694  0.003882  0.003767  0.000808  0.001978   \n",
       " XLV    0.000814  0.001685  0.002099  0.002281  0.000166  0.002009  0.001580   \n",
       " ARKK   0.013383  0.013238  0.017211  0.022916  0.048278  0.014994  0.012942   \n",
       " GDX    0.004611  0.006721  0.011238  0.012115  0.017625  0.009825  0.008387   \n",
       " BA     0.006936  0.005944  0.007625  0.018283  0.025401  0.006400  0.006469   \n",
       " NKE    0.008138  0.007546  0.009479  0.012098  0.013285  0.012186  0.007713   \n",
       " MCD    0.000251  0.000839  0.002889 -0.001178  0.001043  0.000203  0.000836   \n",
       " SBUX   0.007950  0.006833  0.006107  0.010792  0.016520  0.006163  0.005572   \n",
       " \n",
       "            NVDA       JPM       BAC  ...       XLF       XLK       XLE  \\\n",
       " AAPL   0.019967  0.001204  0.002788  ...  0.002120  0.013412  0.001277   \n",
       " MSFT   0.019969  0.002031  0.002864  ...  0.002896  0.012860  0.000741   \n",
       " GOOGL  0.022778  0.003299  0.002913  ...  0.003450  0.013968  0.002694   \n",
       " AMZN   0.026603  0.006199  0.007608  ...  0.005096  0.017254  0.003882   \n",
       " TSLA   0.067817  0.008750  0.012070  ...  0.008866  0.037666  0.003767   \n",
       " META   0.028927  0.001433  0.001674  ...  0.002746  0.016374  0.000808   \n",
       " NFLX   0.025518  0.004747  0.003620  ...  0.003714  0.013623  0.001978   \n",
       " NVDA   0.120973  0.005479  0.004052  ...  0.004909  0.050042  0.003678   \n",
       " JPM    0.005479  0.016416  0.011252  ...  0.008143  0.004051  0.007332   \n",
       " BAC    0.004052  0.011252  0.016244  ...  0.007333  0.004673  0.006319   \n",
       " WMT    0.001006  0.000702  0.001758  ...  0.001582  0.001903  0.000842   \n",
       " PG    -0.007209 -0.003304 -0.001621  ... -0.000910 -0.003546 -0.003007   \n",
       " V      0.004616  0.003588  0.001561  ...  0.004363  0.003678  0.002341   \n",
       " MA     0.008149  0.003802  0.001255  ...  0.004335  0.004877  0.003221   \n",
       " DIS    0.008700  0.004598  0.004466  ...  0.003872  0.005607  0.004742   \n",
       " PEP   -0.007391 -0.001441 -0.000954  ...  0.000448 -0.003874 -0.000719   \n",
       " KO    -0.009734  0.000016 -0.000163  ...  0.000822 -0.004394  0.000350   \n",
       " UNH   -0.009496  0.001423  0.003687  ...  0.001957 -0.004448  0.001513   \n",
       " PFE   -0.005942  0.003665  0.003458  ...  0.002826 -0.001527  0.002842   \n",
       " MRK    0.000876 -0.001864 -0.001614  ... -0.000664  0.000288 -0.000420   \n",
       " T     -0.008421 -0.000102  0.001146  ...  0.000163 -0.005540  0.000628   \n",
       " VZ    -0.002666  0.000501  0.002696  ...  0.001119 -0.002318  0.001668   \n",
       " CSCO   0.007292  0.005192  0.003978  ...  0.004720  0.005681  0.005879   \n",
       " INTC   0.057405  0.020309  0.021927  ...  0.015120  0.036174  0.015473   \n",
       " ORCL   0.028310 -0.003883  0.005266  ...  0.002572  0.017120 -0.000739   \n",
       " ADBE   0.021887  0.005903  0.004749  ...  0.003552  0.012508  0.001804   \n",
       " CRM    0.017882  0.006042  0.005750  ...  0.004662  0.011736  0.006516   \n",
       " BABA   0.017736  0.002130  0.006300  ...  0.003486  0.009281  0.003993   \n",
       " XOM   -0.001785  0.006399  0.004738  ...  0.004036 -0.000763  0.009581   \n",
       " CVX    0.003978  0.007634  0.006107  ...  0.005198  0.003544  0.009862   \n",
       " GS     0.014713  0.014850  0.012993  ...  0.009083  0.009213  0.009064   \n",
       " SPY    0.021682  0.004035  0.004536  ...  0.003853  0.011837  0.003015   \n",
       " QQQ    0.035667  0.003990  0.004714  ...  0.004019  0.018770  0.002795   \n",
       " IWM    0.017224  0.007292  0.009282  ...  0.006728  0.011382  0.007383   \n",
       " DIA    0.008435  0.005136  0.005167  ...  0.004335  0.005882  0.004031   \n",
       " TLT   -0.000013 -0.003944 -0.002557  ... -0.001541 -0.000940 -0.002557   \n",
       " GLD    0.006723  0.001008  0.002369  ...  0.001705  0.003763  0.002485   \n",
       " SLV    0.021210  0.003963  0.005948  ...  0.004196  0.011409  0.006009   \n",
       " XLF    0.004909  0.008143  0.007333  ...  0.006113  0.004339  0.005037   \n",
       " XLK    0.050042  0.004051  0.004673  ...  0.004339  0.025319  0.003225   \n",
       " XLE    0.003678  0.007332  0.006319  ...  0.005037  0.003225  0.009747   \n",
       " XLV    0.001928  0.002409  0.003064  ...  0.002444  0.001809  0.001189   \n",
       " ARKK   0.040502  0.008730  0.011316  ...  0.008124  0.023770  0.007599   \n",
       " GDX    0.022167  0.003569  0.005696  ...  0.004238  0.011780  0.006009   \n",
       " BA     0.021384  0.011549  0.010688  ...  0.007515  0.013626  0.008406   \n",
       " NKE    0.011233  0.002093 -0.000281  ...  0.004006  0.007747  0.002902   \n",
       " MCD   -0.001354 -0.000875 -0.000508  ...  0.001033 -0.000104  0.001182   \n",
       " SBUX   0.028020  0.003618  0.003134  ...  0.002610  0.013188 -0.001642   \n",
       " \n",
       "             XLV      ARKK       GDX        BA       NKE       MCD      SBUX  \n",
       " AAPL   0.000814  0.013383  0.004611  0.006936  0.008138  0.000251  0.007950  \n",
       " MSFT   0.001685  0.013238  0.006721  0.005944  0.007546  0.000839  0.006833  \n",
       " GOOGL  0.002099  0.017211  0.011238  0.007625  0.009479  0.002889  0.006107  \n",
       " AMZN   0.002281  0.022916  0.012115  0.018283  0.012098 -0.001178  0.010792  \n",
       " TSLA   0.000166  0.048278  0.017625  0.025401  0.013285  0.001043  0.016520  \n",
       " META   0.002009  0.014994  0.009825  0.006400  0.012186  0.000203  0.006163  \n",
       " NFLX   0.001580  0.012942  0.008387  0.006469  0.007713  0.000836  0.005572  \n",
       " NVDA   0.001928  0.040502  0.022167  0.021384  0.011233 -0.001354  0.028020  \n",
       " JPM    0.002409  0.008730  0.003569  0.011549  0.002093 -0.000875  0.003618  \n",
       " BAC    0.003064  0.011316  0.005696  0.010688 -0.000281 -0.000508  0.003134  \n",
       " WMT    0.002349  0.004864  0.005176  0.004166  0.003805  0.002308 -0.001856  \n",
       " PG     0.001925 -0.003476 -0.002069 -0.004792  0.002234  0.002415 -0.001424  \n",
       " V      0.002156  0.006488  0.003019  0.003763  0.009652  0.003157  0.002546  \n",
       " MA     0.002052  0.006014  0.003665  0.003957  0.007159  0.002812  0.005743  \n",
       " DIS    0.001959  0.009578  0.006756  0.005912  0.010735  0.004445  0.003868  \n",
       " PEP    0.001534 -0.003357 -0.001317 -0.002847  0.003070  0.003610  0.001480  \n",
       " KO     0.001957 -0.002744 -0.000861 -0.000695  0.002885  0.002855  0.002027  \n",
       " UNH    0.003453  0.000201  0.002403  0.000925 -0.006704  0.005333  0.007029  \n",
       " PFE    0.002986  0.001878  0.002438  0.003986  0.000714  0.003284  0.003207  \n",
       " MRK    0.001554  0.001859  0.000264 -0.001699  0.011390  0.000583 -0.000209  \n",
       " T      0.002299 -0.006479  0.000079 -0.003477 -0.005786  0.002317 -0.000651  \n",
       " VZ     0.002239 -0.001682  0.002942 -0.000649 -0.003275  0.001895  0.004164  \n",
       " CSCO   0.003226  0.010213  0.005978  0.009313  0.008767  0.004837  0.006692  \n",
       " INTC   0.005600  0.043263  0.019563  0.034047  0.009066 -0.004048  0.013815  \n",
       " ORCL   0.002514  0.017461  0.010396  0.005771  0.000886 -0.001149  0.006001  \n",
       " ADBE   0.001986  0.010810  0.004813  0.010743  0.001325 -0.000062  0.004019  \n",
       " CRM    0.002401  0.017592  0.011610  0.013978  0.005437  0.001190  0.006473  \n",
       " BABA   0.001843  0.014485  0.012122  0.009576  0.006305  0.004212  0.004711  \n",
       " XOM    0.000783  0.002596  0.004970  0.006459  0.001864  0.001779 -0.003871  \n",
       " CVX    0.001128  0.007573  0.006039  0.009175  0.003341  0.001173 -0.000205  \n",
       " GS     0.003090  0.015764  0.009356  0.015574  0.002783 -0.000797  0.004506  \n",
       " SPY    0.002131  0.013440  0.007624  0.008443  0.006070  0.001148  0.007175  \n",
       " QQQ    0.001892  0.019338  0.010152  0.011343  0.007608  0.000440  0.010784  \n",
       " IWM    0.003238  0.020185  0.012066  0.014409  0.006400  0.002168  0.007901  \n",
       " DIA    0.002495  0.009619  0.006060  0.008023  0.005402  0.002236  0.004942  \n",
       " TLT    0.000166 -0.001063  0.001838 -0.002942  0.003156  0.002561  0.001410  \n",
       " GLD    0.001289  0.006547  0.013094  0.003507  0.002226  0.002566  0.001504  \n",
       " SLV    0.002942  0.018379  0.028851  0.010491  0.005453  0.006006  0.005340  \n",
       " XLF    0.002444  0.008124  0.004238  0.007515  0.004006  0.001033  0.002610  \n",
       " XLK    0.001809  0.023770  0.011780  0.013626  0.007747 -0.000104  0.013188  \n",
       " XLE    0.001189  0.007599  0.006009  0.008406  0.002902  0.001182 -0.001642  \n",
       " XLV    0.003720  0.003989  0.003632  0.002704  0.003520  0.002567  0.004305  \n",
       " ARKK   0.003989  0.038106  0.018819  0.024043  0.012867  0.002506  0.018642  \n",
       " GDX    0.003632  0.018819  0.031086  0.010739  0.007722  0.006058  0.009358  \n",
       " BA     0.002704  0.024043  0.010739  0.035889  0.011688  0.000922  0.016416  \n",
       " NKE    0.003520  0.012867  0.007722  0.011688  0.058772  0.008763  0.024965  \n",
       " MCD    0.002567  0.002506  0.006058  0.000922  0.008763  0.010962  0.003386  \n",
       " SBUX   0.004305  0.018642  0.009358  0.016416  0.024965  0.003386  0.086158  \n",
       " \n",
       " [48 rows x 48 columns])"
      ]
     },
     "execution_count": 31,
     "metadata": {},
     "output_type": "execute_result"
    }
   ],
   "source": [
    "# xref with pypfopt\n",
    "# adapted from tutorial code from pypfopt/example/examples.ipynb on their gh rep\n",
    "frequency=len(returns_df)\n",
    "mu = expected_returns.mean_historical_return(close_df, frequency=frequency)\n",
    "S = risk_models.sample_cov(close_df, frequency=frequency)\n",
    "\n",
    "mu, S"
   ]
  },
  {
   "cell_type": "markdown",
   "id": "52938a61-f787-470c-b902-1e5fa0b863c4",
   "metadata": {},
   "source": [
    "PyPfOpt calculates the Sharpe ratio as $$S_R = \\frac{\\mu - \\text{Risk-free rate}}{\\sigma} = \\frac{\\mu - 0.02}{\\sigma}$$\n",
    "\n",
    "However, do also note that PyPfOpt calcluates <b>log returns</b>. This means the each return is $r_{i+1} = \\log \\left(1 + \\frac{p_{i+1} - p_{i}}{p_{i}} \\right)$ and the mean historical return is $\\left[ \\Pi_{i=2}^n \\left( 1 + r_{i+1} \\right) \\right]^{n} - 1$. The covariance matrix is made with log returns, <u>then multiplied by $n$.</u>"
   ]
  },
  {
   "cell_type": "code",
   "execution_count": 34,
   "id": "86a8aac3-6533-42bf-824d-3651ff7ab648",
   "metadata": {},
   "outputs": [
    {
     "name": "stdout",
     "output_type": "stream",
     "text": [
      "OrderedDict({'AAPL': 0.08290493996219181, 'MSFT': 0.0, 'GOOGL': 0.0, 'AMZN': 0.0, 'TSLA': 0.015713514180099197, 'META': 0.01752351069456025, 'NFLX': 0.0, 'NVDA': 0.0, 'JPM': 0.037912167197593605, 'BAC': 0.0, 'WMT': 0.11809273292766498, 'PG': 0.0, 'V': 0.0, 'MA': 0.0, 'DIS': 0.0, 'PEP': 0.0, 'KO': 0.2631294832558918, 'UNH': 0.009950617428892446, 'PFE': 0.0, 'MRK': 0.0, 'T': 0.17350468722441567, 'VZ': 0.0, 'CSCO': 0.0, 'INTC': 0.0, 'ORCL': 0.08146632811603317, 'ADBE': 0.025558546697357867, 'CRM': 0.01881681128584581, 'BABA': 0.04441849909894928, 'XOM': 0.0, 'CVX': 0.0, 'GS': 0.0, 'SPY': 0.0, 'QQQ': 0.0, 'IWM': 0.0, 'DIA': 0.0, 'TLT': 0.11100816193050406, 'GLD': 0.0, 'SLV': 0.0, 'XLF': 0.0, 'XLK': 0.0, 'XLE': 0.0, 'XLV': 0.0, 'ARKK': 0.0, 'GDX': 0.0, 'BA': 0.0, 'NKE': 0.0, 'MCD': 0.0, 'SBUX': 0.0})\n",
      "Expected annual return: 18.0%\n",
      "Annual volatility: 4.6%\n",
      "Sharpe Ratio: 3.49\n"
     ]
    },
    {
     "data": {
      "text/plain": [
       "<Axes: xlabel='Volatility', ylabel='Return'>"
      ]
     },
     "execution_count": 34,
     "metadata": {},
     "output_type": "execute_result"
    },
    {
     "data": {
      "image/png": "[encoded data removed]",
      "text/plain": [
       "<Figure size 640x480 with 1 Axes>"
      ]
     },
     "metadata": {},
     "output_type": "display_data"
    }
   ],
   "source": [
    "cla = CLA(mu, S)\n",
    "print(cla.max_sharpe())\n",
    "cla.portfolio_performance(verbose=True)\n",
    "plotting.plot_efficient_frontier(cla)  # to plot"
   ]
  },
  {
   "cell_type": "code",
   "execution_count": 35,
   "id": "942ca786-1d30-41c0-93b1-3e46dc0e8e7a",
   "metadata": {},
   "outputs": [],
   "source": [
    "# TO-DO\n",
    "# The weights of the \"monte carlo\" method seem to match the weight of the pypfopt.\n",
    "# Need to figure out how to connect daily returns/risk with annualized returns/volatility of pypfopt."
   ]
  },
  {
   "cell_type": "code",
   "execution_count": null,
   "id": "8f51b3ea-8eca-4ee9-92f5-a25c48363366",
   "metadata": {},
   "outputs": [],
   "source": []
  }
 ],
 "metadata": {
  "kernelspec": {
   "display_name": "Python 3 (ipykernel)",
   "language": "python",
   "name": "python3"
  },
  "language_info": {
   "codemirror_mode": {
    "name": "ipython",
    "version": 3
   },
   "file_extension": ".py",
   "mimetype": "text/x-python",
   "name": "python",
   "nbconvert_exporter": "python",
   "pygments_lexer": "ipython3",
   "version": "3.12.2"
  }
 },
 "nbformat": 4,
 "nbformat_minor": 5
}
