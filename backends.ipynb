{
 "cells": [
  {
   "cell_type": "code",
   "execution_count": 1,
   "id": "77b844fb-567a-4c3d-b55f-f36f8141672b",
   "metadata": {},
   "outputs": [],
   "source": [
    "# goals:\n",
    "# run VQE on all backends\n",
    "# run Quantum Volume simulator on all backends\n",
    "# figure out entanglement scheme on all backends\n",
    "\n",
    "# so how to transpile VQE scheme for backends?"
   ]
  },
  {
   "cell_type": "code",
   "execution_count": 3,
   "id": "7c5e577a-b956-47c8-8085-f905e1d85d92",
   "metadata": {},
   "outputs": [],
   "source": [
    "import numpy as np\n",
    "from qiskit import QuantumCircuit\n",
    "\n",
    "def test_circuit():\n",
    "    circuit = QuantumCircuit(4)\n",
    "\n",
    "    circuit.h([0, 1, 2, 3])\n",
    "    circuit.x([0, 1])\n",
    "    circuit.y(2)\n",
    "    circuit.z(3)\n",
    "    circuit.s(0)\n",
    "    circuit.sdg(1)\n",
    "    circuit.t(2)\n",
    "    circuit.tdg(3)\n",
    "    circuit.rx(np.pi / 4, 0)\n",
    "    circuit.ry(np.pi / 2, 1)\n",
    "    circuit.rz(3 * np.pi / 4, 2)\n",
    "    circuit.p(np.pi / 8, 3)\n",
    "    circuit.sx(0)\n",
    "    circuit.sxdg(1)\n",
    "    circuit.iswap(2, 3)\n",
    "    circuit.swap([0, 1], [2, 3])\n",
    "    circuit.cx(0, 1)\n",
    "    circuit.cp(np.pi / 4, 2, 3)\n",
    "\n",
    "    return circuit\n",
    "circuit = test_circuit()"
   ]
  },
  {
   "cell_type": "markdown",
   "id": "e947e731-635b-4036-a810-715c6d486d9e",
   "metadata": {},
   "source": [
    "# IBM Devices"
   ]
  },
  {
   "cell_type": "code",
   "execution_count": 4,
   "id": "36a2b1eb-1fd6-4155-aedb-38a4a6796640",
   "metadata": {},
   "outputs": [],
   "source": [
    "# ibm backends:\n",
    "from qiskit_aer import AerSimulator\n",
    "from qiskit_ibm_runtime.fake_provider import FakeBrisbane, FakeOsaka, FakeKyoto, FakeSherbrooke\n",
    "\n",
    "backend = AerSimulator.from_backend(FakeBrisbane())\n",
    "# all these backends have 127 qubits."
   ]
  },
  {
   "cell_type": "code",
   "execution_count": 5,
   "id": "f1ccdd5d-596a-4e64-8094-df29b4da794c",
   "metadata": {},
   "outputs": [
    {
     "data": {
      "text/plain": [
       "':trol:'"
      ]
     },
     "execution_count": 5,
     "metadata": {},
     "output_type": "execute_result"
    }
   ],
   "source": [
    "# ibm transpiling code: (from VQE qiskit docs)\n",
    "from qiskit.transpiler.preset_passmanagers import generate_preset_pass_manager\n",
    "\n",
    "target = backend.target\n",
    "pm = generate_preset_pass_manager(target=target, optimization_level=3)\n",
    "circuit_isa = pm.run(circuit)\n",
    "\n",
    "# from some https://github.com/Qiskit/qiskit/issues/9717\n",
    "from qiskit import QuantumCircuit, QuantumRegister, ClassicalRegister, transpile\n",
    "from qiskit_ibm_runtime import QiskitRuntimeService\n",
    "\n",
    "# service = QiskitRuntimeService()\n",
    "backend = FakeBrisbane() # or service.get_backend(\"ibm_lagos\")\n",
    "circuit = transpile(circuit, backend=backend)  # throws error\n",
    "\n",
    "# circuit_isa.draw(output='mpl')\n",
    "# circuit.draw(output='mpl')\n",
    "\":trol:\""
   ]
  },
  {
   "cell_type": "markdown",
   "id": "f20e758d-6c5b-4f0e-9b92-38d5bca31db3",
   "metadata": {},
   "source": [
    "# Braket Devices\n",
    "Transpiling"
   ]
  },
  {
   "cell_type": "code",
   "execution_count": 7,
   "id": "1a723b85-6d4c-4db9-b43d-69d6644f037f",
   "metadata": {},
   "outputs": [
    {
     "data": {
      "text/plain": [
       "{'cirq': cirq.circuits.circuit.Circuit,\n",
       " 'qiskit': qiskit.circuit.quantumcircuit.QuantumCircuit,\n",
       " 'braket': braket.circuits.circuit.Circuit,\n",
       " 'braket_ahs': braket.ahs.analog_hamiltonian_simulation.AnalogHamiltonianSimulation,\n",
       " 'openqasm3': openqasm3.ast.Program,\n",
       " 'qasm2': str,\n",
       " 'qasm3': str,\n",
       " 'ionq': ~IonQDict}"
      ]
     },
     "execution_count": 7,
     "metadata": {},
     "output_type": "execute_result"
    }
   ],
   "source": [
    "import qbraid.runtime\n",
    "from qbraid.programs import QPROGRAM_REGISTRY\n",
    "from qbraid.interface import (\n",
    "    circuits_allclose,\n",
    "    assert_allclose_up_to_global_phase,\n",
    "    random_circuit,\n",
    ")\n",
    "from qbraid.transpiler import transpile\n",
    "\n",
    "\n",
    "QPROGRAM_REGISTRY"
   ]
  },
  {
   "cell_type": "code",
   "execution_count": 11,
   "id": "7e581258-a483-4b76-bf56-43519c2212c1",
   "metadata": {},
   "outputs": [
    {
     "name": "stdout",
     "output_type": "stream",
     "text": [
      "T   : │      0      │     1      │      2      │      3      │   4   │      5      │      6      │   7   │      8      │      9      │     10      │     11      │ 12  │     13     │  14   │     15      │     16      │  17   │     18      │     19      │     20     │         21          │     22      │     23      │      24       │     25      │     26      │     27     │         28          │     29      │     30      │  31   │     32      │ 33  │     34     │  35   │     36      │     37      │  38   │ 39  │     40     │      41       │     42      │ 43  │     44     │ 45  │  46   │     47      │ 48  │     49     │ 50  │\n",
      "GP : │      0      │     0      │      0      │      0      │   0   │      0      │      0      │   0   │      0      │      0      │      0      │      0      │  0  │     0      │   0   │      0      │      0      │   0   │      0      │      0      │     0      │      0      │   0   │      0      │      0      │   0   │   0   │      0      │      0      │     0      │      0      │   0   │      0      │      0      │   0   │      0      │  0  │     0      │   0   │      0      │      0      │   0   │  0  │     0      │   0   │   0   │      0      │  0  │     0      │  0  │   0   │      0      │  0  │     0      │5.89 │\n",
      "       ┌──────────┐                                                                                                                                                                                                                                                                     ┌─────┐ ┌───────────┐     ┌───┐             ┌─────┐ ┌──────────┐      ┌───┐                                ┌─────┐ ┌───────────┐                                                                                                                               ┌─────┐     ┌───┐                                                                             \n",
      "q15 : ─┤ Rz(1.57) ├─────────────────────────────────────────────────────────────────────────────────────────────────────────────────────────────────────────────────────────────────────────────────────────────────────────────────────────────────────────────────────────────────────┤ ECR ├─┤ Rz(-1.57) ├─────┤ V ├─────────────┤ ECR ├─┤ Rz(1.57) ├──────┤ V ├────────────────────────────────┤ ECR ├─┤ Rz(-1.57) ├───────────────────────────────────────────────────────────────────────────────────────────────────────────────────────────────┤ ECR ├─────┤ X ├─────────────────────────────────────────────────────────────────────────────\n",
      "       └──────────┘                                                                                                                                                                                                                                                                     └──┬──┘ └───────────┘     └───┘             └──┬──┘ └──────────┘      └───┘                                └──┬──┘ └───────────┘                                                                                                                               └──┬──┘     └───┘                                                                             \n",
      "       ┌───────────┐    ┌───┐     ┌───────────┐     ┌───┐     ┌─────┐     ┌───┐     ┌───────────┐ ┌─────┐ ┌───────────┐     ┌───┐     ┌───────────┐                                                                                                            ┌─────┐    ┌───────────┐    │        ┌───┐     ┌──────────┐  ┌─────┐    │        ┌───┐     ┌───────────┐   ┌─────┐    ┌───────────┐    │        ┌───┐     ┌───────────┐  ┌───┐  ┌──────────┐                                                                                    ┌─────┐    │        ┌───┐                              ┌─────┐ ┌───────────┐ ┌───┐ ┌──────────┐       \n",
      "q20 : ─┤ Rz(-1.57) ├────┤ V ├─────┤ Rz(-2.75) ├─────┤ V ├─────┤ ECR ├─────┤ V ├─────┤ Rz(-1.57) ├─┤ ECR ├─┤ Rz(-3.14) ├─────┤ V ├─────┤ Rz(-1.57) ├────────────────────────────────────────────────────────────────────────────────────────────────────────────┤ ECR ├────┤ Rz(-3.14) ├────┼────────┤ V ├─────┤ Rz(1.57) ├──┤ ECR ├────┼────────┤ V ├─────┤ Rz(-1.57) ├───┤ ECR ├────┤ Rz(-1.57) ├────┼────────┤ V ├─────┤ Rz(-1.96) ├──┤ V ├──┤ Rz(1.57) ├────────────────────────────────────────────────────────────────────────────────────┤ ECR ├────┼────────┤ V ├──────────────────────────────┤ ECR ├─┤ Rz(-1.57) ├─┤ V ├─┤ Rz(1.57) ├───────\n",
      "       └───────────┘    └───┘     └───────────┘     └───┘     └──┬──┘     └───┘     └───────────┘ └──┬──┘ └───────────┘     └───┘     └───────────┘                                                                                                            └──┬──┘    └───────────┘    │        └───┘     └──────────┘  └──┬──┘    │        └───┘     └───────────┘   └──┬──┘    └───────────┘    │        └───┘     └───────────┘  └───┘  └──────────┘                                                                                    └──┬──┘    │        └───┘                              └──┬──┘ └───────────┘ └───┘ └──────────┘       \n",
      "       ┌───────────┐    ┌───┐     ┌───────────┐               ┌──┴──┐ ┌───────────┐     ┌───┐     ┌──┴──┐     ┌───┐     ┌───────────┐    ┌─────┐    ┌──────────┐  ┌───┐              ┌─────┐ ┌───────────┐     ┌───┐     ┌─────┐     ┌───┐     ┌───────────┐   ┌──┴──┐    ┌──────────┐     │        ┌───┐                   ┌──┴──┐    │    ┌───────────┐     ┌───┐       ┌──┴──┐        ┌───┐        │    ┌───────────┐               ┌─────┐ ┌──────────┐  ┌───┐              ┌─────┐ ┌───────────┐     ┌───┐     ┌─────┐ ┌───┐ ┌──────────┐ ┌──┴──┐    │    ┌───────────┐ ┌───┐ ┌──────────┐ ┌───┐ ┌──┴──┐ ┌──────────┐  ┌───┐ ┌──────────┐       \n",
      "q21 : ─┤ Rz(-3.14) ├────┤ V ├─────┤ Rz(-1.57) ├───────────────┤ ECR ├─┤ Rz(-1.57) ├─────┤ V ├─────┤ ECR ├─────┤ X ├─────┤ Rz(-1.57) ├────┤ ECR ├────┤ Rz(1.57) ├──┤ V ├──────────────┤ ECR ├─┤ Rz(-1.57) ├─────┤ V ├─────┤ ECR ├─────┤ X ├─────┤ Rz(-1.57) ├───┤ ECR ├────┤ Rz(1.57) ├─────┼────────┤ V ├───────────────────┤ ECR ├────┼────┤ Rz(-1.57) ├─────┤ V ├───────┤ ECR ├────────┤ X ├────────┼────┤ Rz(-1.57) ├───────────────┤ ECR ├─┤ Rz(1.57) ├──┤ V ├──────────────┤ ECR ├─┤ Rz(-1.57) ├─────┤ V ├─────┤ ECR ├─┤ X ├─┤ Rz(1.57) ├─┤ ECR ├────┼────┤ Rz(-1.57) ├─┤ V ├─┤ Rz(0.39) ├─┤ V ├─┤ ECR ├─┤ Rz(1.57) ├──┤ V ├─┤ Rz(1.96) ├───────\n",
      "       └───────────┘    └───┘     └───────────┘               └─────┘ └───────────┘     └───┘     └─────┘     └───┘     └───────────┘    └──┬──┘    └──────────┘  └───┘              └──┬──┘ └───────────┘     └───┘     └──┬──┘     └───┘     └───────────┘   └─────┘    └──────────┘     │        └───┘                   └─────┘    │    └───────────┘     └───┘       └─────┘        └───┘        │    └───────────┘               └──┬──┘ └──────────┘  └───┘              └──┬──┘ └───────────┘     └───┘     └──┬──┘ └───┘ └──────────┘ └─────┘    │    └───────────┘ └───┘ └──────────┘ └───┘ └─────┘ └──────────┘  └───┘ └──────────┘       \n",
      "           ┌───┐     ┌──────────┐     ┌───┐     ┌───────────┐                                                                            ┌──┴──┐    ┌───────────┐ ┌───┐ ┌──────────┐ ┌──┴──┐     ┌───┐     ┌───────────┐ ┌──┴──┐ ┌───────────┐     ┌───┐     ┌──────────┐               ┌──┴──┐     ┌───┐     ┌───────────┐         ┌──┴──┐ ┌───────────┐     ┌───┐     ┌──────────┐               ┌──┴──┐     ┌───┐     ┌───────────┐ ┌──┴──┐ ┌───────────┐ ┌───┐ ┌──────────┐ ┌──┴──┐     ┌───┐     ┌───────────┐ ┌──┴──┐ ┌───┐ ┌──────────┐         ┌──┴──┐                                                                                       \n",
      "q22 : ─────┤ V ├─────┤ Rz(0.79) ├─────┤ V ├─────┤ Rz(-3.14) ├────────────────────────────────────────────────────────────────────────────┤ ECR ├────┤ Rz(-3.14) ├─┤ V ├─┤ Rz(1.57) ├─┤ ECR ├─────┤ V ├─────┤ Rz(-1.57) ├─┤ ECR ├─┤ Rz(-3.14) ├─────┤ V ├─────┤ Rz(1.57) ├───────────────┤ ECR ├─────┤ V ├─────┤ Rz(-1.57) ├─────────┤ ECR ├─┤ Rz(-3.14) ├─────┤ V ├─────┤ Rz(1.57) ├───────────────┤ ECR ├─────┤ V ├─────┤ Rz(-1.57) ├─┤ ECR ├─┤ Rz(-3.14) ├─┤ V ├─┤ Rz(1.57) ├─┤ ECR ├─────┤ V ├─────┤ Rz(-1.57) ├─┤ ECR ├─┤ V ├─┤ Rz(1.57) ├─────────┤ ECR ├───────────────────────────────────────────────────────────────────────────────────────\n",
      "           └───┘     └──────────┘     └───┘     └───────────┘                                                                            └─────┘    └───────────┘ └───┘ └──────────┘ └─────┘     └───┘     └───────────┘ └─────┘ └───────────┘     └───┘     └──────────┘               └─────┘     └───┘     └───────────┘         └─────┘ └───────────┘     └───┘     └──────────┘               └─────┘     └───┘     └───────────┘ └─────┘ └───────────┘ └───┘ └──────────┘ └─────┘     └───┘     └───────────┘ └─────┘ └───┘ └──────────┘         └─────┘                                                                                       \n",
      "T   : │      0      │     1      │      2      │      3      │   4   │      5      │      6      │   7   │      8      │      9      │     10      │     11      │ 12  │     13     │  14   │     15      │     16      │  17   │     18      │     19      │     20     │         21          │     22      │     23      │      24       │     25      │     26      │     27     │         28          │     29      │     30      │  31   │     32      │ 33  │     34     │  35   │     36      │     37      │  38   │ 39  │     40     │      41       │     42      │ 43  │     44     │ 45  │  46   │     47      │ 48  │     49     │ 50  │\n",
      "\n",
      "Global phase: 5.890486225480866\n"
     ]
    },
    {
     "data": {
      "text/plain": [
       "\"\\nYou may need to `pip install qiskit-braket-provider`. However, from the docs:\\n\\nWhile the qiskit-braket-provider package offers direct conversions, this comes with a trade-off.\\nIt eliminates intermediate steps but tends to be more prone to errors, particularly with unsupported\\ngates, compared to the qBraid transpiler. To leverage the best of both, you can integrate the\\nqiskit-braket-provider's direct conversion into the qBraid transpiler's conversion graph.\\nConsequently, when converting from Braket to Qiskit, the transpiler will first try the direct\\nconversion through the qiskit-braket-provider. If this conversion fails, it will automatically\\nrevert to one of the other native qBraid conversion paths\\n\""
      ]
     },
     "execution_count": 11,
     "metadata": {},
     "output_type": "execute_result"
    }
   ],
   "source": [
    "braket_circuit = transpile(circuit, \"braket\")\n",
    "print(braket_circuit)\n",
    "\n",
    "\"\"\"\n",
    "You may need to `pip install qiskit-braket-provider`. However, from the docs:\n",
    "\n",
    "While the qiskit-braket-provider package offers direct conversions, this comes with a trade-off.\n",
    "It eliminates intermediate steps but tends to be more prone to errors, particularly with unsupported\n",
    "gates, compared to the qBraid transpiler. To leverage the best of both, you can integrate the\n",
    "qiskit-braket-provider's direct conversion into the qBraid transpiler's conversion graph.\n",
    "Consequently, when converting from Braket to Qiskit, the transpiler will first try the direct\n",
    "conversion through the qiskit-braket-provider. If this conversion fails, it will automatically\n",
    "revert to one of the other native qBraid conversion paths\n",
    "\"\"\""
   ]
  },
  {
   "cell_type": "code",
   "execution_count": 13,
   "id": "71d878cc-58c9-4804-811b-32bb3987c2f1",
   "metadata": {},
   "outputs": [
    {
     "ename": "CompilationError",
     "evalue": "Rebasing the specified quantum program to the provided basis gate set {'rx', 't', 'cx', 'sdg', 'sx', 'ry', 'z', 'x', 'y', 'rz', 'h', 'tdg', 'sxdg', 'swap', 's'} is not supported.",
     "output_type": "error",
     "traceback": [
      "\u001b[0;31m---------------------------------------------------------------------------\u001b[0m",
      "\u001b[0;31mValueError\u001b[0m                                Traceback (most recent call last)",
      "File \u001b[0;32m~/.local/lib/python3.10/site-packages/qbraid/passes/qasm3/decompose.py:267\u001b[0m, in \u001b[0;36mrebase\u001b[0;34m(qasm, basis_gates, require_predicates)\u001b[0m\n\u001b[1;32m    266\u001b[0m     \u001b[38;5;28;01mif\u001b[39;00m \u001b[38;5;28mlen\u001b[39m(basis_gates) \u001b[38;5;241m>\u001b[39m \u001b[38;5;241m0\u001b[39m:\n\u001b[0;32m--> 267\u001b[0m         \u001b[43massert_gates_in_basis\u001b[49m\u001b[43m(\u001b[49m\u001b[43mconverted_program\u001b[49m\u001b[43m,\u001b[49m\u001b[43m \u001b[49m\u001b[43mbasis_gates\u001b[49m\u001b[43m)\u001b[49m\n\u001b[1;32m    268\u001b[0m \u001b[38;5;28;01mexcept\u001b[39;00m \u001b[38;5;167;01mValueError\u001b[39;00m \u001b[38;5;28;01mas\u001b[39;00m err:\n",
      "File \u001b[0;32m~/.local/lib/python3.10/site-packages/qbraid/passes/qasm3/decompose.py:216\u001b[0m, in \u001b[0;36massert_gates_in_basis\u001b[0;34m(program, basis_gates)\u001b[0m\n\u001b[1;32m    215\u001b[0m \u001b[38;5;28;01mif\u001b[39;00m gate_name \u001b[38;5;129;01mnot\u001b[39;00m \u001b[38;5;129;01min\u001b[39;00m basis_gates:\n\u001b[0;32m--> 216\u001b[0m     \u001b[38;5;28;01mraise\u001b[39;00m \u001b[38;5;167;01mValueError\u001b[39;00m(\n\u001b[1;32m    217\u001b[0m         \u001b[38;5;124mf\u001b[39m\u001b[38;5;124m\"\u001b[39m\u001b[38;5;124mOpenQASM program uses gate \u001b[39m\u001b[38;5;124m'\u001b[39m\u001b[38;5;132;01m{\u001b[39;00mgate_name\u001b[38;5;132;01m}\u001b[39;00m\u001b[38;5;124m'\u001b[39m\u001b[38;5;124m which is not in the basis gate set.\u001b[39m\u001b[38;5;124m\"\u001b[39m\n\u001b[1;32m    218\u001b[0m     )\n",
      "\u001b[0;31mValueError\u001b[0m: OpenQASM program uses gate 'ecr' which is not in the basis gate set.",
      "\nThe above exception was the direct cause of the following exception:\n",
      "\u001b[0;31mCompilationError\u001b[0m                          Traceback (most recent call last)",
      "Cell \u001b[0;32mIn[13], line 12\u001b[0m\n\u001b[1;32m      9\u001b[0m provider \u001b[38;5;241m=\u001b[39m IonQProvider(\u001b[38;5;124m'\u001b[39m\u001b[38;5;124m'\u001b[39m)\n\u001b[1;32m     10\u001b[0m device \u001b[38;5;241m=\u001b[39m provider\u001b[38;5;241m.\u001b[39mget_device(\u001b[38;5;124m\"\u001b[39m\u001b[38;5;124mqpu.harmony\u001b[39m\u001b[38;5;124m\"\u001b[39m)\n\u001b[0;32m---> 12\u001b[0m \u001b[38;5;28mprint\u001b[39m(\u001b[43mqprogram\u001b[49m\u001b[38;5;241;43m.\u001b[39;49m\u001b[43mtransform\u001b[49m\u001b[43m(\u001b[49m\u001b[43mdevice\u001b[49m\u001b[43m)\u001b[49m)\n\u001b[1;32m     13\u001b[0m \u001b[38;5;28mprint\u001b[39m(qprogram\u001b[38;5;241m.\u001b[39mprogram)\n",
      "File \u001b[0;32m~/.local/lib/python3.10/site-packages/qbraid/programs/circuits/qasm.py:295\u001b[0m, in \u001b[0;36mauto_reparse.<locals>.wrapper\u001b[0;34m(self, *args, **kwargs)\u001b[0m\n\u001b[1;32m    294\u001b[0m \u001b[38;5;28;01mdef\u001b[39;00m \u001b[38;5;21mwrapper\u001b[39m(\u001b[38;5;28mself\u001b[39m, \u001b[38;5;241m*\u001b[39margs, \u001b[38;5;241m*\u001b[39m\u001b[38;5;241m*\u001b[39mkwargs):\n\u001b[0;32m--> 295\u001b[0m     result \u001b[38;5;241m=\u001b[39m \u001b[43mfunc\u001b[49m\u001b[43m(\u001b[49m\u001b[38;5;28;43mself\u001b[39;49m\u001b[43m,\u001b[49m\u001b[43m \u001b[49m\u001b[38;5;241;43m*\u001b[39;49m\u001b[43margs\u001b[49m\u001b[43m,\u001b[49m\u001b[43m \u001b[49m\u001b[38;5;241;43m*\u001b[39;49m\u001b[38;5;241;43m*\u001b[39;49m\u001b[43mkwargs\u001b[49m\u001b[43m)\u001b[49m\n\u001b[1;32m    296\u001b[0m     \u001b[38;5;28mself\u001b[39m\u001b[38;5;241m.\u001b[39m_parse_state()\n\u001b[1;32m    297\u001b[0m     \u001b[38;5;28;01mreturn\u001b[39;00m result\n",
      "File \u001b[0;32m~/.local/lib/python3.10/site-packages/qbraid/programs/circuits/qasm.py:692\u001b[0m, in \u001b[0;36mOpenQasm3Program.transform\u001b[0;34m(self, device)\u001b[0m\n\u001b[1;32m    689\u001b[0m basis_gates \u001b[38;5;241m=\u001b[39m device\u001b[38;5;241m.\u001b[39mprofile\u001b[38;5;241m.\u001b[39mget(\u001b[38;5;124m\"\u001b[39m\u001b[38;5;124mbasis_gates\u001b[39m\u001b[38;5;124m\"\u001b[39m)\n\u001b[1;32m    691\u001b[0m \u001b[38;5;28;01mif\u001b[39;00m basis_gates \u001b[38;5;129;01mis\u001b[39;00m \u001b[38;5;129;01mnot\u001b[39;00m \u001b[38;5;28;01mNone\u001b[39;00m \u001b[38;5;129;01mand\u001b[39;00m \u001b[38;5;28mlen\u001b[39m(basis_gates) \u001b[38;5;241m>\u001b[39m \u001b[38;5;241m0\u001b[39m:\n\u001b[0;32m--> 692\u001b[0m     transformed_qasm \u001b[38;5;241m=\u001b[39m \u001b[43mrebase\u001b[49m\u001b[43m(\u001b[49m\u001b[38;5;28;43mself\u001b[39;49m\u001b[38;5;241;43m.\u001b[39;49m\u001b[43mprogram\u001b[49m\u001b[43m,\u001b[49m\u001b[43m \u001b[49m\u001b[43mbasis_gates\u001b[49m\u001b[43m)\u001b[49m\n\u001b[1;32m    693\u001b[0m     \u001b[38;5;28mself\u001b[39m\u001b[38;5;241m.\u001b[39m_program \u001b[38;5;241m=\u001b[39m normalize_qasm_gate_params(transformed_qasm)\n",
      "File \u001b[0;32m~/.local/lib/python3.10/site-packages/qbraid/passes/qasm3/decompose.py:270\u001b[0m, in \u001b[0;36mrebase\u001b[0;34m(qasm, basis_gates, require_predicates)\u001b[0m\n\u001b[1;32m    268\u001b[0m \u001b[38;5;28;01mexcept\u001b[39;00m \u001b[38;5;167;01mValueError\u001b[39;00m \u001b[38;5;28;01mas\u001b[39;00m err:\n\u001b[1;32m    269\u001b[0m     \u001b[38;5;28;01mif\u001b[39;00m require_predicates:\n\u001b[0;32m--> 270\u001b[0m         \u001b[38;5;28;01mraise\u001b[39;00m CompilationError(\n\u001b[1;32m    271\u001b[0m             \u001b[38;5;124m\"\u001b[39m\u001b[38;5;124mRebasing the specified quantum program to the provided \u001b[39m\u001b[38;5;124m\"\u001b[39m\n\u001b[1;32m    272\u001b[0m             \u001b[38;5;124mf\u001b[39m\u001b[38;5;124m\"\u001b[39m\u001b[38;5;124mbasis gate set \u001b[39m\u001b[38;5;132;01m{\u001b[39;00mbasis_gates\u001b[38;5;132;01m}\u001b[39;00m\u001b[38;5;124m is not supported.\u001b[39m\u001b[38;5;124m\"\u001b[39m\n\u001b[1;32m    273\u001b[0m         ) \u001b[38;5;28;01mfrom\u001b[39;00m \u001b[38;5;21;01merr\u001b[39;00m\n\u001b[1;32m    275\u001b[0m     \u001b[38;5;28;01mreturn\u001b[39;00m qasm\n\u001b[1;32m    277\u001b[0m version_major \u001b[38;5;241m=\u001b[39m converted_program\u001b[38;5;241m.\u001b[39mversion\u001b[38;5;241m.\u001b[39msplit(\u001b[38;5;124m\"\u001b[39m\u001b[38;5;124m.\u001b[39m\u001b[38;5;124m\"\u001b[39m)[\u001b[38;5;241m0\u001b[39m]\n",
      "\u001b[0;31mCompilationError\u001b[0m: Rebasing the specified quantum program to the provided basis gate set {'rx', 't', 'cx', 'sdg', 'sx', 'ry', 'z', 'x', 'y', 'rz', 'h', 'tdg', 'sxdg', 'swap', 's'} is not supported."
     ]
    }
   ],
   "source": [
    "from qbraid.transpiler import transpile\n",
    "\n",
    "qasm3_program = transpile(circuit, 'qasm3')\n",
    "\n",
    "from qbraid.programs import load_program\n",
    "qprogram = load_program(qasm3_program)\n",
    "\n",
    "from qbraid.runtime.ionq import IonQProvider\n",
    "provider = IonQProvider('')\n",
    "device = provider.get_device(\"qpu.harmony\")\n",
    "\n",
    "print(qprogram.transform(device))\n",
    "print(qprogram.program)"
   ]
  },
  {
   "cell_type": "code",
   "execution_count": null,
   "id": "8c63e46e-ecae-496c-a9c2-206b680e1ef7",
   "metadata": {},
   "outputs": [],
   "source": [
    "import qiskit.qasm3\n",
    "circuit = qiskit.qasm3.loads(qprogram.program)\n",
    "circuit.draw(\"mpl\")"
   ]
  }
 ],
 "metadata": {
  "kernelspec": {
   "display_name": "Python 3 (ipykernel)",
   "language": "python",
   "name": "python3"
  },
  "language_info": {
   "codemirror_mode": {
    "name": "ipython",
    "version": 3
   },
   "file_extension": ".py",
   "mimetype": "text/x-python",
   "name": "python",
   "nbconvert_exporter": "python",
   "pygments_lexer": "ipython3",
   "version": "3.10.12"
  }
 },
 "nbformat": 4,
 "nbformat_minor": 5
}
