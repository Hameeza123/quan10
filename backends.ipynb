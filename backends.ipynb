{
 "cells": [
  {
   "cell_type": "code",
   "execution_count": 1,
   "id": "77b844fb-567a-4c3d-b55f-f36f8141672b",
   "metadata": {},
   "outputs": [],
   "source": [
    "# goals:\n",
    "# run VQE on all backends\n",
    "# run Quantum Volume simulator on all backends\n",
    "# figure out entanglement scheme on all backends\n",
    "\n",
    "# so how to transpile VQE scheme for backends?"
   ]
  },
  {
   "cell_type": "code",
   "execution_count": 10,
   "id": "74291398-28a4-4a01-94ce-6b0ea80cb3e7",
   "metadata": {},
   "outputs": [],
   "source": [
    "!pip install qiskit --quiet\n",
    "!pip install qiskit_aer --quiet\n",
    "!pip install qiskit_ibm_runtime --quiet\n",
    "!pip install qiskit-braket-provider --quiet\n",
    "!pip install qbraid_core --quiet\n",
    "!pip install qbraid_cli --quiet\n",
    "\n",
    "api_key = open(\"../api_key.txt\", \"r\").read().strip()"
   ]
  },
  {
   "cell_type": "markdown",
   "id": "1d27b542-500f-4343-a4fd-88971d21b3f0",
   "metadata": {},
   "source": [
    "- generate test circuit (1 cell)"
   ]
  },
  {
   "cell_type": "code",
   "execution_count": 11,
   "id": "7c5e577a-b956-47c8-8085-f905e1d85d92",
   "metadata": {},
   "outputs": [],
   "source": [
    "import numpy as np\n",
    "from qiskit import QuantumCircuit\n",
    "\n",
    "def test_circuit():\n",
    "    circuit = QuantumCircuit(4)\n",
    "\n",
    "    circuit.h([0, 1, 2, 3])\n",
    "    circuit.x([0, 1])\n",
    "    circuit.y(2)\n",
    "    circuit.z(3)\n",
    "    circuit.s(0)\n",
    "    circuit.sdg(1)\n",
    "    circuit.t(2)\n",
    "    circuit.tdg(3)\n",
    "    circuit.rx(np.pi / 4, 0)\n",
    "    circuit.ry(np.pi / 2, 1)\n",
    "    circuit.rz(3 * np.pi / 4, 2)\n",
    "    circuit.p(np.pi / 8, 3)\n",
    "    circuit.sx(0)\n",
    "    circuit.sxdg(1)\n",
    "    circuit.iswap(2, 3)\n",
    "    circuit.swap([0, 1], [2, 3])\n",
    "    circuit.cx(0, 1)\n",
    "    circuit.cp(np.pi / 4, 2, 3)\n",
    "\n",
    "    return circuit\n",
    "circuit = test_circuit()"
   ]
  },
  {
   "cell_type": "markdown",
   "id": "e947e731-635b-4036-a810-715c6d486d9e",
   "metadata": {},
   "source": [
    "# IBM Devices\n",
    "- import qiskit modules\n",
    "- transpile circuit"
   ]
  },
  {
   "cell_type": "code",
   "execution_count": 3,
   "id": "36a2b1eb-1fd6-4155-aedb-38a4a6796640",
   "metadata": {
    "jupyter": {
     "source_hidden": true
    }
   },
   "outputs": [],
   "source": [
    "# ibm backends:\n",
    "from qiskit_aer import AerSimulator\n",
    "from qiskit_ibm_runtime.fake_provider import FakeBrisbane, FakeOsaka, FakeKyoto, FakeSherbrooke\n",
    "\n",
    "backend = AerSimulator.from_backend(FakeBrisbane())\n",
    "# all these backends have 127 qubits."
   ]
  },
  {
   "cell_type": "code",
   "execution_count": 4,
   "id": "f1ccdd5d-596a-4e64-8094-df29b4da794c",
   "metadata": {
    "jupyter": {
     "source_hidden": true
    }
   },
   "outputs": [
    {
     "data": {
      "text/plain": [
       "':trol:'"
      ]
     },
     "execution_count": 4,
     "metadata": {},
     "output_type": "execute_result"
    }
   ],
   "source": [
    "# ibm transpiling code: (from VQE qiskit docs)\n",
    "from qiskit.transpiler.preset_passmanagers import generate_preset_pass_manager\n",
    "\n",
    "target = backend.target\n",
    "pm = generate_preset_pass_manager(target=target, optimization_level=3)\n",
    "ibm_circuit_isa = pm.run(circuit)\n",
    "\n",
    "# from some https://github.com/Qiskit/qiskit/issues/9717\n",
    "from qiskit import QuantumCircuit, QuantumRegister, ClassicalRegister, transpile\n",
    "from qiskit_ibm_runtime import QiskitRuntimeService\n",
    "\n",
    "# service = QiskitRuntimeService()\n",
    "backend = FakeBrisbane() # or service.get_backend(\"ibm_lagos\")\n",
    "ibm_circuit = transpile(circuit, backend=backend)  # throws error\n",
    "\n",
    "# ibm_circuit_isa.draw(output='mpl')\n",
    "# ibm_circuit.draw(output='mpl')\n",
    "\":trol:\""
   ]
  },
  {
   "cell_type": "markdown",
   "id": "f20e758d-6c5b-4f0e-9b92-38d5bca31db3",
   "metadata": {},
   "source": [
    "# Braket Devices"
   ]
  },
  {
   "cell_type": "code",
   "execution_count": 12,
   "id": "1a723b85-6d4c-4db9-b43d-69d6644f037f",
   "metadata": {},
   "outputs": [
    {
     "data": {
      "text/plain": [
       "{'qiskit': qiskit.circuit.quantumcircuit.QuantumCircuit,\n",
       " 'braket': braket.circuits.circuit.Circuit,\n",
       " 'braket_ahs': braket.ahs.analog_hamiltonian_simulation.AnalogHamiltonianSimulation,\n",
       " 'openqasm3': openqasm3.ast.Program,\n",
       " 'qasm2': str,\n",
       " 'qasm3': str,\n",
       " 'ionq': ~IonQDict,\n",
       " 'bloqade': bloqade.builder.assign.BatchAssign}"
      ]
     },
     "execution_count": 12,
     "metadata": {},
     "output_type": "execute_result"
    }
   ],
   "source": [
    "import qbraid.runtime\n",
    "from qbraid.programs import QPROGRAM_REGISTRY\n",
    "from qbraid.interface import (\n",
    "    circuits_allclose,\n",
    "    assert_allclose_up_to_global_phase,\n",
    "    random_circuit,\n",
    ")\n",
    "from qbraid.transpiler import transpile\n",
    "\n",
    "\n",
    "QPROGRAM_REGISTRY"
   ]
  },
  {
   "cell_type": "markdown",
   "id": "4375f7af-0ef3-44b3-b11d-37c7790034c1",
   "metadata": {},
   "source": [
    "# Generic Backend List"
   ]
  },
  {
   "cell_type": "code",
   "execution_count": 58,
   "id": "c6dffa4c-40c8-423f-9714-767a0c8921c1",
   "metadata": {},
   "outputs": [],
   "source": [
    "from qiskit_aer import AerSimulator\n",
    "from qiskit_aer.noise import NoiseModel\n",
    "from qiskit_ibm_runtime.fake_provider import FakeBrisbane, FakeOsaka, FakeKyoto, FakeSherbrooke\n",
    "from qbraid.transpiler import transpile\n",
    "from qbraid.programs import load_program\n",
    "from qbraid.visualization import circuit_drawer\n",
    "\n",
    "from qiskit_aer.noise import (NoiseModel, QuantumError, ReadoutError,\n",
    "    pauli_error, depolarizing_error, thermal_relaxation_error)\n",
    "\n",
    "# brisbane, osaka are the same\n",
    "# kyoto and sherbrooke are each different?\n",
    "IBM_BACKENDS = {\n",
    "    \"brisbane\": FakeBrisbane(),\n",
    "    \"osaka\": FakeOsaka(),\n",
    "    \"kyoto\": FakeKyoto(),\n",
    "    \"sherbrooke\": FakeSherbrooke()\n",
    "}\n",
    "\n",
    "AWS_BACKENDS = {\n",
    "    \"aspen\": {\n",
    "        'aws_id': \"arn:aws:braket:us-west-1::device/qpu/rigetti/Aspen-M-3\",\n",
    "    },\n",
    "    \"harmony\": {\n",
    "        'q1': 0.4 * 0.01,\n",
    "        'q2': 2.7 * 0.01,\n",
    "        'spam': 0.18 * 0.01,\n",
    "        't1': 10, # [10, 100],\n",
    "        't2': 1, # [1, 1],\n",
    "        'q1g': 135e-6, # actually unknown\n",
    "        'q2g': 600e-6, # actually unknown\n",
    "    },\n",
    "    \"aria-1\": {\n",
    "        'q1': 0.05 * 0.01,\n",
    "        'q2': 0.4 * 0.01,\n",
    "        'spam': 0.39 * 0.01,\n",
    "        't1': 10, # [10, 100],\n",
    "        't2': 1, # [1, 1],\n",
    "        'q1g': 135e-6,\n",
    "        'q2g': 600e-6\n",
    "    },\n",
    "    \"aria-2\": {\n",
    "        'q1': 0.05 * 0.01,\n",
    "        'q2': 0.4 * 0.01,\n",
    "        'spam': 0.39 * 0.01,\n",
    "        't1': 10, # [10, 100],\n",
    "        't2': 1, # [1, 1],\n",
    "        'q1g': 135e-6,\n",
    "        'q2g': 600e-6\n",
    "    },\n",
    "    \"forte-1\": {\n",
    "        'q1': 0.02 * 0.01,\n",
    "        'q2': 0.4 * 0.01,\n",
    "        'spam': 0.5 * 0.01,\n",
    "        't1': 10, # [10, 100],\n",
    "        't2': 1, # [1, 1],\n",
    "        'q1g': 135e-6, # actually unknown\n",
    "        'q2g': 600e-6 # actually unknown\n",
    "    },\n",
    "    \"garnet\": {\n",
    "        'aws_id': \"arn:aws:braket:eu-north-1::device/qpu/iqm/Garnet\",\n",
    "    },\n",
    "    \"ankaa\": {\n",
    "        'aws_id': \"arn:aws:braket:us-west-1::device/qpu/rigetti/Ankaa-2\",\n",
    "    }\n",
    "}\n",
    "IONQ = [\"harmony\", \"aria-1\", \"aria-2\", \"forte-1\"]\n",
    "IONQ_basis_gates = ['z', 'ry', 'sx', 'sxdg', 'rz', 'h', 'sdg', 'rx', 'y', 't', 'cx', 'swap', 's', 'x', 'tdg']\n",
    "IONQ_1q_gates = ['z', 'ry', 'sx', 'sxdg', 'rz', 'h', 'sdg', 'rx', 'y', 't', 's', 'x', 'tdg']\n",
    "IONQ_2q_gates = ['cx', 'swap']\n",
    "\n",
    "\n",
    "def get_simulator(backend):\n",
    "    backend = backend.lower()\n",
    "    if backend in IBM_BACKENDS:\n",
    "        return AerSimulator.from_backend(IBM_BACKENDS[backend])\n",
    "\n",
    "    if backend == \"aquila\":\n",
    "        raise(\"AUAHSDFHADSHFA do VQE first\")\n",
    "    \n",
    "    if backend in IONQ:\n",
    "        # noise_model = NoiseModel.from_backend_properties(\n",
    "        #     gate_lengths=[        \n",
    "        # )\n",
    "        noise_model = NoiseModel()\n",
    "        \n",
    "        errors = AWS_BACKENDS[backend]        \n",
    "        single_qubit_error = depolarizing_error(errors['q1'], 1)\n",
    "        two_qubit_error = depolarizing_error(errors['q2'], 2)\n",
    "        spam_error = depolarizing_error(errors['spam'], 1)\n",
    "        tq1_error = thermal_relaxation_error(errors['t1'], errors['t2'], errors['q1g'])\n",
    "        # tq2_error = thermal_relaxation_error(errors['t1'], errors['t2'], errors['q2g'])\n",
    "        \n",
    "        \n",
    "        noise_model.add_all_qubit_quantum_error(single_qubit_error, IONQ_1q_gates)\n",
    "        noise_model.add_all_qubit_quantum_error(tq1_error, IONQ_1q_gates)\n",
    "        noise_model.add_all_qubit_quantum_error(two_qubit_error, IONQ_2q_gates)\n",
    "        # noise_model.add_all_qubit_quantum_error(tq2_error, IONQ_2q_gates)\n",
    "        noise_model.add_all_qubit_quantum_error(spam_error, ['prepare', 'measure'])\n",
    "        \n",
    "        # return a base AerSimulator with noise models\n",
    "        return AerSimulator(noise_model=noise_model)\n",
    "\n",
    "def prepare_circuit(circuit, backend):\n",
    "    backend = backend.lower()\n",
    "    if backend in IBM_BACKENDS:\n",
    "        from qiskit import transpile\n",
    "        # non-optimized transpilation:\n",
    "        return transpile(circuit, backend=get_simulator(backend))\n",
    "\n",
    "    if backend == \"aquila\":\n",
    "        raise(\"Sorry, I have no idea how to help you there.\")\n",
    "\n",
    "    if backend in AWS_BACKENDS:\n",
    "        from qbraid.transpiler import transpile\n",
    "        braket_program = transpile(circuit, 'braket')\n",
    "        qprogram = load_program(braket_program)\n",
    "        if backend in \"harmonyaria-1aria-2forte-1\":\n",
    "            from qbraid.runtime.ionq import IonQProvider\n",
    "            provider = IonQProvider(api_key)\n",
    "            device = provider.get_device(\"qpu.\" + backend)\n",
    "        else:\n",
    "            from qbraid.runtime.aws import BraketProvider\n",
    "            provider = BraketProvider(api_key)\n",
    "            device = provider.get_device(AWS_BACKENDS[backend][\"aws_id\"])\n",
    "\n",
    "        qprogram.transform(device)\n",
    "        # return transpile(qprogram.program, \"qiskit\")\n",
    "        return qprogram\n",
    "        \n",
    "    raise(\"Please check backend named\", backend)\n",
    "\n",
    "\n",
    "circuit = test_circuit()"
   ]
  },
  {
   "cell_type": "code",
   "execution_count": 51,
   "id": "673e11a9-c8ff-43ce-a708-85a94a88a472",
   "metadata": {
    "collapsed": true,
    "jupyter": {
     "outputs_hidden": true
    }
   },
   "outputs": [
    {
     "name": "stderr",
     "output_type": "stream",
     "text": [
      "ERROR - Failed to fetch status: Unrecognized device status: retired\n",
      "ERROR - Failed to fetch queue depth: Queue depth is not available for this device.\n"
     ]
    },
    {
     "data": {
      "text/plain": [
       "{'device_id': 'qpu.harmony',\n",
       " 'simulator': False,\n",
       " 'experiment_type': <ExperimentType.GATE_MODEL: 'gate_model'>,\n",
       " 'num_qubits': 11,\n",
       " 'provider_name': 'IonQ',\n",
       " 'basis_gates': {'cx',\n",
       "  'h',\n",
       "  'rx',\n",
       "  'ry',\n",
       "  'rz',\n",
       "  's',\n",
       "  'sdg',\n",
       "  'swap',\n",
       "  'sx',\n",
       "  'sxdg',\n",
       "  't',\n",
       "  'tdg',\n",
       "  'x',\n",
       "  'y',\n",
       "  'z'},\n",
       " 'status': 'UNKNOWN',\n",
       " 'queue_depth': None}"
      ]
     },
     "execution_count": 51,
     "metadata": {},
     "output_type": "execute_result"
    }
   ],
   "source": [
    "from qbraid.runtime.ionq import IonQProvider\n",
    "IonQProvider(api_key).get_device(\"qpu.harmony\").metadata()"
   ]
  },
  {
   "cell_type": "code",
   "execution_count": 45,
   "id": "12dd0704-ee95-4bb5-b4ff-481554bd42b8",
   "metadata": {
    "collapsed": true,
    "jupyter": {
     "outputs_hidden": true
    }
   },
   "outputs": [
    {
     "name": "stdout",
     "output_type": "stream",
     "text": [
      "<qbraid.programs.circuits.braket.BraketCircuit object at 0x7f491542d210>\n",
      "T  : |0|1|2 |     3     |  4  |    5    |     6     |\n",
      "                                                     \n",
      "q0 : -H-X-S--Rx(0.79)----V-----SWAP------C-----------\n",
      "                               |         |           \n",
      "q1 : -H-X-Si-Ry(1.57)----Vi----|----SWAP-X-----------\n",
      "                               |    |                \n",
      "q2 : -H-Y-T--Rz(2.36)----ISWAP-SWAP-|----C-----------\n",
      "                         |          |    |           \n",
      "q3 : -H-Z-Ti-PHASE(0.39)-ISWAP------SWAP-PHASE(0.79)-\n",
      "\n",
      "T  : |0|1|2 |     3     |  4  |    5    |     6     |\n",
      "<qbraid.programs.circuits.braket.BraketCircuit object at 0x7f48ea0fc990>\n",
      "T  : |0|1|2 |     3     |  4  |    5    |     6     |\n",
      "                                                     \n",
      "q0 : -H-X-S--Rx(0.79)----V-----SWAP------C-----------\n",
      "                               |         |           \n",
      "q1 : -H-X-Si-Ry(1.57)----Vi----|----SWAP-X-----------\n",
      "                               |    |                \n",
      "q2 : -H-Y-T--Rz(2.36)----ISWAP-SWAP-|----C-----------\n",
      "                         |          |    |           \n",
      "q3 : -H-Z-Ti-PHASE(0.39)-ISWAP------SWAP-PHASE(0.79)-\n",
      "\n",
      "T  : |0|1|2 |     3     |  4  |    5    |     6     |\n",
      "<qbraid.programs.circuits.braket.BraketCircuit object at 0x7f48fe0db550>\n",
      "T  : |0|1|2 |     3     |  4  |    5    |     6     |\n",
      "                                                     \n",
      "q0 : -H-X-S--Rx(0.79)----V-----SWAP------C-----------\n",
      "                               |         |           \n",
      "q1 : -H-X-Si-Ry(1.57)----Vi----|----SWAP-X-----------\n",
      "                               |    |                \n",
      "q2 : -H-Y-T--Rz(2.36)----ISWAP-SWAP-|----C-----------\n",
      "                         |          |    |           \n",
      "q3 : -H-Z-Ti-PHASE(0.39)-ISWAP------SWAP-PHASE(0.79)-\n",
      "\n",
      "T  : |0|1|2 |     3     |  4  |    5    |     6     |\n",
      "<qbraid.programs.circuits.braket.BraketCircuit object at 0x7f48f4935a10>\n",
      "T  : |0|1|2 |     3     |  4  |    5    |     6     |\n",
      "                                                     \n",
      "q0 : -H-X-S--Rx(0.79)----V-----SWAP------C-----------\n",
      "                               |         |           \n",
      "q1 : -H-X-Si-Ry(1.57)----Vi----|----SWAP-X-----------\n",
      "                               |    |                \n",
      "q2 : -H-Y-T--Rz(2.36)----ISWAP-SWAP-|----C-----------\n",
      "                         |          |    |           \n",
      "q3 : -H-Z-Ti-PHASE(0.39)-ISWAP------SWAP-PHASE(0.79)-\n",
      "\n",
      "T  : |0|1|2 |     3     |  4  |    5    |     6     |\n"
     ]
    }
   ],
   "source": [
    "circuit_drawer(circuit)\n",
    "for backend in IONQ:\n",
    "    new_circuit = prepare_circuit(circuit, backend)\n",
    "    print(new_circuit)\n",
    "    # display(prepare_circuit(circuit, backend).draw(output='mpl'))\n",
    "    circuit_drawer(new_circuit.program)"
   ]
  },
  {
   "cell_type": "code",
   "execution_count": 59,
   "id": "a7744f89-0402-471f-b406-36d0e984c3d6",
   "metadata": {},
   "outputs": [
    {
     "name": "stderr",
     "output_type": "stream",
     "text": [
      "WARNING - WARNING: all-qubit error already exists for instruction \"z\", composing with additional error.\n",
      "WARNING - WARNING: all-qubit error already exists for instruction \"ry\", composing with additional error.\n",
      "WARNING - WARNING: all-qubit error already exists for instruction \"sx\", composing with additional error.\n",
      "WARNING - WARNING: all-qubit error already exists for instruction \"sxdg\", composing with additional error.\n",
      "WARNING - WARNING: all-qubit error already exists for instruction \"rz\", composing with additional error.\n",
      "WARNING - WARNING: all-qubit error already exists for instruction \"h\", composing with additional error.\n",
      "WARNING - WARNING: all-qubit error already exists for instruction \"sdg\", composing with additional error.\n",
      "WARNING - WARNING: all-qubit error already exists for instruction \"rx\", composing with additional error.\n",
      "WARNING - WARNING: all-qubit error already exists for instruction \"y\", composing with additional error.\n",
      "WARNING - WARNING: all-qubit error already exists for instruction \"t\", composing with additional error.\n",
      "WARNING - WARNING: all-qubit error already exists for instruction \"s\", composing with additional error.\n",
      "WARNING - WARNING: all-qubit error already exists for instruction \"x\", composing with additional error.\n",
      "WARNING - WARNING: all-qubit error already exists for instruction \"tdg\", composing with additional error.\n",
      "WARNING - WARNING: all-qubit error already exists for instruction \"z\", composing with additional error.\n",
      "WARNING - WARNING: all-qubit error already exists for instruction \"ry\", composing with additional error.\n",
      "WARNING - WARNING: all-qubit error already exists for instruction \"sx\", composing with additional error.\n",
      "WARNING - WARNING: all-qubit error already exists for instruction \"sxdg\", composing with additional error.\n",
      "WARNING - WARNING: all-qubit error already exists for instruction \"rz\", composing with additional error.\n",
      "WARNING - WARNING: all-qubit error already exists for instruction \"h\", composing with additional error.\n",
      "WARNING - WARNING: all-qubit error already exists for instruction \"sdg\", composing with additional error.\n",
      "WARNING - WARNING: all-qubit error already exists for instruction \"rx\", composing with additional error.\n",
      "WARNING - WARNING: all-qubit error already exists for instruction \"y\", composing with additional error.\n",
      "WARNING - WARNING: all-qubit error already exists for instruction \"t\", composing with additional error.\n",
      "WARNING - WARNING: all-qubit error already exists for instruction \"s\", composing with additional error.\n",
      "WARNING - WARNING: all-qubit error already exists for instruction \"x\", composing with additional error.\n",
      "WARNING - WARNING: all-qubit error already exists for instruction \"tdg\", composing with additional error.\n",
      "WARNING - WARNING: all-qubit error already exists for instruction \"z\", composing with additional error.\n",
      "WARNING - WARNING: all-qubit error already exists for instruction \"ry\", composing with additional error.\n",
      "WARNING - WARNING: all-qubit error already exists for instruction \"sx\", composing with additional error.\n",
      "WARNING - WARNING: all-qubit error already exists for instruction \"sxdg\", composing with additional error.\n",
      "WARNING - WARNING: all-qubit error already exists for instruction \"rz\", composing with additional error.\n",
      "WARNING - WARNING: all-qubit error already exists for instruction \"h\", composing with additional error.\n",
      "WARNING - WARNING: all-qubit error already exists for instruction \"sdg\", composing with additional error.\n",
      "WARNING - WARNING: all-qubit error already exists for instruction \"rx\", composing with additional error.\n",
      "WARNING - WARNING: all-qubit error already exists for instruction \"y\", composing with additional error.\n",
      "WARNING - WARNING: all-qubit error already exists for instruction \"t\", composing with additional error.\n",
      "WARNING - WARNING: all-qubit error already exists for instruction \"s\", composing with additional error.\n",
      "WARNING - WARNING: all-qubit error already exists for instruction \"x\", composing with additional error.\n",
      "WARNING - WARNING: all-qubit error already exists for instruction \"tdg\", composing with additional error.\n",
      "WARNING - WARNING: all-qubit error already exists for instruction \"z\", composing with additional error.\n",
      "WARNING - WARNING: all-qubit error already exists for instruction \"ry\", composing with additional error.\n",
      "WARNING - WARNING: all-qubit error already exists for instruction \"sx\", composing with additional error.\n",
      "WARNING - WARNING: all-qubit error already exists for instruction \"sxdg\", composing with additional error.\n",
      "WARNING - WARNING: all-qubit error already exists for instruction \"rz\", composing with additional error.\n",
      "WARNING - WARNING: all-qubit error already exists for instruction \"h\", composing with additional error.\n",
      "WARNING - WARNING: all-qubit error already exists for instruction \"sdg\", composing with additional error.\n",
      "WARNING - WARNING: all-qubit error already exists for instruction \"rx\", composing with additional error.\n",
      "WARNING - WARNING: all-qubit error already exists for instruction \"y\", composing with additional error.\n",
      "WARNING - WARNING: all-qubit error already exists for instruction \"t\", composing with additional error.\n",
      "WARNING - WARNING: all-qubit error already exists for instruction \"s\", composing with additional error.\n",
      "WARNING - WARNING: all-qubit error already exists for instruction \"x\", composing with additional error.\n",
      "WARNING - WARNING: all-qubit error already exists for instruction \"tdg\", composing with additional error.\n"
     ]
    },
    {
     "name": "stdout",
     "output_type": "stream",
     "text": [
      "AerSimulator('aer_simulator'\n",
      "             noise_model=<NoiseModel on ['z', 'ry', 'sxdg', 'rz', 's', 'h', 'sdg', 'rx', 'y', 'prepare', 't', 'cx', 'swap', 'sx', 'measure', 'x', 'tdg']>)\n",
      "AerSimulator('aer_simulator'\n",
      "             noise_model=<NoiseModel on ['z', 'ry', 'sxdg', 'rz', 's', 'h', 'sdg', 'rx', 'y', 'prepare', 't', 'cx', 'swap', 'sx', 'measure', 'x', 'tdg']>)\n",
      "AerSimulator('aer_simulator'\n",
      "             noise_model=<NoiseModel on ['z', 'ry', 'sxdg', 'rz', 's', 'h', 'sdg', 'rx', 'y', 'prepare', 't', 'cx', 'swap', 'sx', 'measure', 'x', 'tdg']>)\n",
      "AerSimulator('aer_simulator'\n",
      "             noise_model=<NoiseModel on ['z', 'ry', 'sxdg', 'rz', 's', 'h', 'sdg', 'rx', 'y', 'prepare', 't', 'cx', 'swap', 'sx', 'measure', 'x', 'tdg']>)\n"
     ]
    }
   ],
   "source": [
    "# for backend in IBM_BACKENDS:\n",
    "#     print(get_simulator(backend))\n",
    "for backend in IONQ:\n",
    "    print(get_simulator(backend))"
   ]
  },
  {
   "cell_type": "markdown",
   "id": "22b317a2-b12e-4878-973c-52fc60b31618",
   "metadata": {},
   "source": [
    "# VQE on all backends"
   ]
  }
 ],
 "metadata": {
  "kernelspec": {
   "display_name": "Python 3 [Default]",
   "language": "python",
   "name": "python3"
  },
  "language_info": {
   "codemirror_mode": {
    "name": "ipython",
    "version": 3
   },
   "file_extension": ".py",
   "mimetype": "text/x-python",
   "name": "python",
   "nbconvert_exporter": "python",
   "pygments_lexer": "ipython3",
   "version": "3.11.9"
  }
 },
 "nbformat": 4,
 "nbformat_minor": 5
}
