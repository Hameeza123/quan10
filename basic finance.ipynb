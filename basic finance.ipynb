{
 "cells": [
  {
   "cell_type": "markdown",
   "id": "5973606e-a336-4c3f-b68a-9c7937cb31c8",
   "metadata": {},
   "source": [
    "Sources:\n",
    "- https://onlinelibrary.wiley.com/doi/book/10.1002/9781118106907 (HG106 .A44)\n",
    "- https://web.p.ebscohost.com/ehost/detail/detail?vid=0&sid=4e5f9e98-927b-488b-b494-01b7f1def4e6%40redis&bdata=JkF1dGhUeXBlPWlwJnNpdGU9ZWhvc3QtbGl2ZSZzY29wZT1zaXRl#AN=52240&db=nlebk\n",
    "  (HG4925.5 .G74)"
   ]
  },
  {
   "cell_type": "code",
   "execution_count": 88,
   "id": "5bc80ab1-11ab-473f-820a-14730639235b",
   "metadata": {},
   "outputs": [],
   "source": [
    "import numpy as np\n",
    "import matplotlib.pyplot as plt\n",
    "import datetime\n",
    "import pandas as pd\n",
    "import pypfopt\n",
    "from pypfopt import CLA, plotting, expected_returns, risk_models\n",
    "\n",
    "import yfinance as yf\n",
    "from requests import Session\n",
    "from requests_cache import CacheMixin, SQLiteCache\n",
    "from requests_ratelimiter import LimiterMixin, MemoryQueueBucket\n",
    "from pyrate_limiter import Duration, RequestRate, Limiter\n",
    "class CachedLimiterSession(CacheMixin, LimiterMixin, Session):\n",
    "    pass\n",
    "\n",
    "session = CachedLimiterSession(\n",
    "    limiter=Limiter(RequestRate(2, Duration.SECOND*1)),  # max 2 requests per 1 second\n",
    "    bucket_class=MemoryQueueBucket,\n",
    "    backend=SQLiteCache(\"yfinance.cache\"),\n",
    ")\n",
    "session.headers['User-agent'] = 'my-program/1.0'"
   ]
  },
  {
   "cell_type": "code",
   "execution_count": 75,
   "id": "c1c8d046-ea93-484a-a523-0b3c83d43302",
   "metadata": {},
   "outputs": [],
   "source": [
    "tickers = ['intc', 'gme', 'cost', 'vst'] \n",
    "start_date = '2017-01-01' # inclusive\n",
    "end_date = '2017-01-31' # exclusive\n",
    "\n",
    "# set number of assets (= number of qubits)\n",
    "num_assets = len(tickers)\n",
    "close_df = pd.DataFrame()\n",
    "\n",
    "for i, ticker in enumerate(tickers):\n",
    "    yf_ticker = yf.Ticker(ticker, session=session)\n",
    "    close_df[ticker] = yf_ticker.history(start=start_date, end=end_date)[\"Close\"]"
   ]
  },
  {
   "cell_type": "code",
   "execution_count": 76,
   "id": "39ae06cd-7f92-4226-ba19-4ac46690a3b6",
   "metadata": {},
   "outputs": [
    {
     "data": {
      "text/plain": [
       "(array([ 0.00126749, -0.00237989,  0.00123876,  0.00345721]),\n",
       " array([[ 7.61329916e-05, -6.14004873e-06, -1.07838695e-05,\n",
       "         -2.81057743e-05],\n",
       "        [-6.14004873e-06,  5.83712089e-04, -2.01601658e-05,\n",
       "         -1.21883399e-05],\n",
       "        [-1.07838695e-05, -2.01601658e-05,  5.74038709e-05,\n",
       "          2.99656241e-05],\n",
       "        [-2.81057743e-05, -1.21883399e-05,  2.99656241e-05,\n",
       "          3.25443218e-04]]),\n",
       " array([[ 1.        , -0.02912635, -0.1631239 , -0.17855479],\n",
       "        [-0.02912635,  1.        , -0.1101347 , -0.02796453],\n",
       "        [-0.1631239 , -0.1101347 ,  1.        ,  0.21923764],\n",
       "        [-0.17855479, -0.02796453,  0.21923764,  1.        ]]))"
      ]
     },
     "execution_count": 76,
     "metadata": {},
     "output_type": "execute_result"
    }
   ],
   "source": [
    "returns_df = pd.DataFrame()\n",
    "for ticker in tickers:\n",
    "    # returns_df[ticker] = (close_df[ticker] - close_df[ticker].shift(1)) / close_df[ticker].shift(1)\n",
    "    returns_df = close_df.pct_change().dropna()\n",
    "\n",
    "# expected return for each asset\n",
    "expected_returns = np.array(returns_df.mean())\n",
    "\n",
    "# sample variance\n",
    "variances = np.array(returns_df.cov())\n",
    "\n",
    "# sample correlation\n",
    "correlations = np.array(returns_df.corr())\n",
    "\n",
    "expected_returns, variances, correlations"
   ]
  },
  {
   "cell_type": "code",
   "execution_count": 77,
   "id": "8b32e340-2581-4911-9bd6-4acdd6a92d7d",
   "metadata": {},
   "outputs": [
    {
     "data": {
      "image/png": "[encoded data removed]",
      "text/plain": [
       "<Figure size 640x480 with 1 Axes>"
      ]
     },
     "metadata": {},
     "output_type": "display_data"
    },
    {
     "data": {
      "text/plain": [
       "array([[ 7.61329916e-05, -6.14004873e-06, -1.07838695e-05,\n",
       "        -2.81057743e-05],\n",
       "       [-6.14004873e-06,  5.83712089e-04, -2.01601658e-05,\n",
       "        -1.21883399e-05],\n",
       "       [-1.07838695e-05, -2.01601658e-05,  5.74038709e-05,\n",
       "         2.99656241e-05],\n",
       "       [-2.81057743e-05, -1.21883399e-05,  2.99656241e-05,\n",
       "         3.25443218e-04]])"
      ]
     },
     "execution_count": 77,
     "metadata": {},
     "output_type": "execute_result"
    }
   ],
   "source": [
    "# for the qiskit VQE demo:\n",
    "mu = expected_returns\n",
    "sigma = variances\n",
    "\n",
    "# plot sigma\n",
    "plt.imshow(sigma, interpolation=\"nearest\")\n",
    "plt.show()\n",
    "\n",
    "sigma"
   ]
  },
  {
   "cell_type": "markdown",
   "id": "dd937f08-009b-44b8-b189-aad67418480c",
   "metadata": {},
   "source": [
    "Given weights $w_1 + \\dots + w_n = 100 \\%$, where $w_i = \\frac{V_i}{V_p}$ is the $i$th asset's value as a fraction of the the portfolio's value:\n",
    "- the portfolio's expected rate of return is the weighted average $k_p = \\sum^n_{i=1} w_i k_{ei}$\n",
    "- the portfolio's risk is the standard deviation $\\sqrt{\\sum^n_{i=1} \\sum^n_{j=1} w_i w_j \\text{Cov}_{ij}}$. (As you might imagine, the variation can also be a measure of risk.)"
   ]
  },
  {
   "cell_type": "code",
   "execution_count": 78,
   "id": "6211f69b-7423-4ea4-b503-d63bfce98245",
   "metadata": {},
   "outputs": [
    {
     "data": {
      "text/plain": [
       "0.0009030719736536953"
      ]
     },
     "execution_count": 78,
     "metadata": {},
     "output_type": "execute_result"
    }
   ],
   "source": [
    "example_portfolio = [\n",
    "    (0, 0.5),\n",
    "    (1, 0.25),\n",
    "    (2, 0),\n",
    "    (3, 0.25)\n",
    "]\n",
    "\n",
    "weights = np.array(example_portfolio)[:,1]\n",
    "example_return = weights.dot(expected_returns)\n",
    "example_return"
   ]
  },
  {
   "cell_type": "code",
   "execution_count": 79,
   "id": "c1b566b4-ec61-4c06-9223-88d5aee48d2c",
   "metadata": {},
   "outputs": [
    {
     "data": {
      "text/plain": [
       "0.008109898661227175"
      ]
     },
     "execution_count": 79,
     "metadata": {},
     "output_type": "execute_result"
    }
   ],
   "source": [
    "example_risk = (\n",
    "    weights.dot(variances.dot(weights))\n",
    ") ** 0.5\n",
    "example_risk\n",
    "\n",
    "# check:\n",
    "risk = 0\n",
    "for i in range(0, num_assets):\n",
    "    for j in range(0, num_assets):\n",
    "        risk += weights[i] * weights[j] * variances[i][j]\n",
    "risk ** 0.5"
   ]
  },
  {
   "cell_type": "code",
   "execution_count": 80,
   "id": "67c99691-2d42-45ce-9f89-c3823c55fae5",
   "metadata": {},
   "outputs": [],
   "source": [
    "# generate an efficient frontier graph using random portfolios\n",
    "\n",
    "num_portfolios = 10000\n",
    "returns = []\n",
    "risks = []\n",
    "weights = []\n",
    "\n",
    "for _ in range(0, num_portfolios):\n",
    "    portfolio_order = np.random.permutation(np.arange(num_assets))\n",
    "    remaining_weight = 1\n",
    "    _weights = np.zeros(num_assets)\n",
    "    for i in portfolio_order:\n",
    "        _weight = np.random.random() * remaining_weight\n",
    "        remaining_weight -= _weight\n",
    "        _weights[i] = _weight\n",
    "    returns.append(_weights.dot(expected_returns))\n",
    "    risks.append(_weights.dot(variances.dot(_weights)) ** 0.5)\n",
    "    weights.append(_weights)"
   ]
  },
  {
   "cell_type": "code",
   "execution_count": 81,
   "id": "61e2be99-978c-42ea-9621-32ef7431c8f6",
   "metadata": {},
   "outputs": [
    {
     "data": {
      "image/png": "[encoded data removed]",
      "text/plain": [
       "<Figure size 640x480 with 1 Axes>"
      ]
     },
     "metadata": {},
     "output_type": "display_data"
    }
   ],
   "source": [
    "plt.plot(risks * 100, returns * 100, 'o')\n",
    "plt.xlabel(\"$\\sigma$ (Risk level in %)\")\n",
    "plt.ylabel(\"$k$ (Return in %)\")\n",
    "plt.show()"
   ]
  },
  {
   "cell_type": "code",
   "execution_count": 101,
   "id": "936e98c9-8c70-4a0f-a631-7acd2e8241f7",
   "metadata": {},
   "outputs": [
    {
     "name": "stdout",
     "output_type": "stream",
     "text": [
      "[0.41396269 0.00181844 0.37021794 0.20497822]\n",
      "Sharpe Ratio: 0.3030210248721873\n"
     ]
    }
   ],
   "source": [
    "max_sharpe = (0,)\n",
    "for i in range(0, len(risks)):\n",
    "    _return, _risk, _weights = returns[i], risks[i], weights[i]\n",
    "    _risk = _risk\n",
    "    if _return/_risk > max_sharpe[0]:\n",
    "        max_sharpe = (_return/_risk, _risk, _return, _weights)\n",
    "print(max_sharpe[3])\n",
    "# print(\"Expected return:\", max_sharpe[2])\n",
    "# print(\"Expected annual return:\", (1 + max_sharpe[2]) ** (252) - 1)\n",
    "# print(\"Risk:\", max_sharpe[2])\n",
    "# print(\"Annual volatility:\", (1 + max_sharpe[1]) ** (252) - 1)\n",
    "print(\"Sharpe Ratio:\", max_sharpe[0])"
   ]
  },
  {
   "cell_type": "code",
   "execution_count": 103,
   "id": "9104f46f-108a-4a62-89e8-8642e6964137",
   "metadata": {},
   "outputs": [
    {
     "data": {
      "text/plain": [
       "(intc    0.022404\n",
       " gme    -0.046906\n",
       " cost    0.022037\n",
       " vst     0.061198\n",
       " dtype: float64,\n",
       "           intc       gme      cost       vst\n",
       " intc  0.001370 -0.000111 -0.000194 -0.000506\n",
       " gme  -0.000111  0.010507 -0.000363 -0.000219\n",
       " cost -0.000194 -0.000363  0.001033  0.000539\n",
       " vst  -0.000506 -0.000219  0.000539  0.005858)"
      ]
     },
     "execution_count": 103,
     "metadata": {},
     "output_type": "execute_result"
    }
   ],
   "source": [
    "# xref with pypfopt\n",
    "# adapted from tutorial code from pypfopt/example/examples.ipynb on their gh rep\n",
    "frequency=len(returns_df)\n",
    "mu = expected_returns.mean_historical_return(close_df, frequency=frequency)\n",
    "S = risk_models.sample_cov(close_df, frequency=frequency)\n",
    "\n",
    "mu, S"
   ]
  },
  {
   "cell_type": "code",
   "execution_count": 87,
   "id": "86a8aac3-6533-42bf-824d-3651ff7ab648",
   "metadata": {},
   "outputs": [
    {
     "name": "stdout",
     "output_type": "stream",
     "text": [
      "OrderedDict([('intc', 0.42924109720424936), ('gme', 6.020856566745425e-18), ('cost', 0.374101683963517), ('vst', 0.19665721883223355)])\n",
      "Expected annual return: 3.0%\n",
      "Annual volatility: 2.4%\n",
      "Sharpe Ratio: 0.42\n"
     ]
    },
    {
     "data": {
      "text/plain": [
       "<AxesSubplot:xlabel='Volatility', ylabel='Return'>"
      ]
     },
     "execution_count": 87,
     "metadata": {},
     "output_type": "execute_result"
    },
    {
     "data": {
      "image/png": "[encoded data removed]",
      "text/plain": [
       "<Figure size 640x480 with 1 Axes>"
      ]
     },
     "metadata": {},
     "output_type": "display_data"
    }
   ],
   "source": [
    "cla = CLA(mu, S)\n",
    "print(cla.max_sharpe())\n",
    "cla.portfolio_performance(verbose=True)\n",
    "plotting.plot_efficient_frontier(cla)  # to plot"
   ]
  },
  {
   "cell_type": "code",
   "execution_count": 105,
   "id": "942ca786-1d30-41c0-93b1-3e46dc0e8e7a",
   "metadata": {},
   "outputs": [],
   "source": [
    "# TO-DO\n",
    "# The weights of the \"monte carlo\" method seem to match the weight of the pypfopt.\n",
    "# Need to figure out how to connect daily returns/risk with annualized returns/volatility of pypfopt."
   ]
  }
 ],
 "metadata": {
  "kernelspec": {
   "display_name": "Python 3 (ipykernel)",
   "language": "python",
   "name": "python3"
  },
  "language_info": {
   "codemirror_mode": {
    "name": "ipython",
    "version": 3
   },
   "file_extension": ".py",
   "mimetype": "text/x-python",
   "name": "python",
   "nbconvert_exporter": "python",
   "pygments_lexer": "ipython3",
   "version": "3.10.12"
  }
 },
 "nbformat": 4,
 "nbformat_minor": 5
}
